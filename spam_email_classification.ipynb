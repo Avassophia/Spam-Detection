{
  "nbformat": 4,
  "nbformat_minor": 0,
  "metadata": {
    "colab": {
      "provenance": [],
      "authorship_tag": "ABX9TyOVyBZ86724ksjPSG9C/kpe",
      "include_colab_link": true
    },
    "kernelspec": {
      "name": "python3",
      "display_name": "Python 3"
    },
    "language_info": {
      "name": "python"
    }
  },
  "cells": [
    {
      "cell_type": "markdown",
      "metadata": {
        "id": "view-in-github",
        "colab_type": "text"
      },
      "source": [
        "<a href=\"https://colab.research.google.com/github/Avassophia/Spam-Detection/blob/main/spam_email_classification.ipynb\" target=\"_parent\"><img src=\"https://colab.research.google.com/assets/colab-badge.svg\" alt=\"Open In Colab\"/></a>"
      ]
    },
    {
      "cell_type": "markdown",
      "source": [
        "# Spam Email Classification\n",
        "This project focuses on spam email classification, a task with strong business relevance since spam filtering protects users from phishing, reduces security risks, and saves productivity. We will implement a Multinomial Naive Bayes (MNB) classifier from scratch to detect spam emails. To validate our implementation, we compare it against scikit-learn’s built-in MultinomialNB. We aim to highlight how the choice between raw counts and weighted features affects a model’s ability to distinguish spam from legitimate messages."
      ],
      "metadata": {
        "id": "r04jFpx9J1xp"
      }
    },
    {
      "cell_type": "code",
      "execution_count": null,
      "metadata": {
        "id": "QXy9aicf9EsT"
      },
      "outputs": [],
      "source": [
        "#import the necessary libraries\n",
        "import pandas as pd\n",
        "import numpy as np\n",
        "import matplotlib.pyplot as plt\n",
        "import math\n",
        "import seaborn as sns"
      ]
    },
    {
      "cell_type": "code",
      "source": [
        "#load dataset\n",
        "from google.colab import drive\n",
        "import pandas as pd\n",
        "\n",
        "drive.mount('/content/drive')\n",
        "file_path = '/content/drive/MyDrive/enron_spam_data.csv'\n",
        "df = pd.read_csv(file_path, encoding='latin1')  # 'latin1' often works for email text\n",
        "#rename target column\n",
        "df.rename(columns={\"Spam/Ham\":\"Class\"},inplace=True)\n",
        "df.head()"
      ],
      "metadata": {
        "colab": {
          "base_uri": "https://localhost:8080/",
          "height": 221
        },
        "id": "askSaQlB-etw",
        "outputId": "482afaf5-f0c1-4321-cfef-6dc2d08465ac"
      },
      "execution_count": null,
      "outputs": [
        {
          "output_type": "stream",
          "name": "stdout",
          "text": [
            "Mounted at /content/drive\n"
          ]
        },
        {
          "output_type": "execute_result",
          "data": {
            "text/plain": [
              "   Unnamed: 0                       Subject  \\\n",
              "0           0  christmas tree farm pictures   \n",
              "1           1      vastar resources , inc .   \n",
              "2           2  calpine daily gas nomination   \n",
              "3           3                    re : issue   \n",
              "4           4     meter 7268 nov allocation   \n",
              "\n",
              "                                             Message Class        Date  \n",
              "0                                                NaN   ham  1999-12-10  \n",
              "1  gary , production from the high island larger ...   ham  1999-12-13  \n",
              "2             - calpine daily gas nomination 1 . doc   ham  1999-12-14  \n",
              "3  fyi - see note below - already done .\\nstella\\...   ham  1999-12-14  \n",
              "4  fyi .\\n- - - - - - - - - - - - - - - - - - - -...   ham  1999-12-14  "
            ],
            "text/html": [
              "\n",
              "  <div id=\"df-aaf8669b-45cd-4f7b-972c-8464d8cd61bf\" class=\"colab-df-container\">\n",
              "    <div>\n",
              "<style scoped>\n",
              "    .dataframe tbody tr th:only-of-type {\n",
              "        vertical-align: middle;\n",
              "    }\n",
              "\n",
              "    .dataframe tbody tr th {\n",
              "        vertical-align: top;\n",
              "    }\n",
              "\n",
              "    .dataframe thead th {\n",
              "        text-align: right;\n",
              "    }\n",
              "</style>\n",
              "<table border=\"1\" class=\"dataframe\">\n",
              "  <thead>\n",
              "    <tr style=\"text-align: right;\">\n",
              "      <th></th>\n",
              "      <th>Unnamed: 0</th>\n",
              "      <th>Subject</th>\n",
              "      <th>Message</th>\n",
              "      <th>Class</th>\n",
              "      <th>Date</th>\n",
              "    </tr>\n",
              "  </thead>\n",
              "  <tbody>\n",
              "    <tr>\n",
              "      <th>0</th>\n",
              "      <td>0</td>\n",
              "      <td>christmas tree farm pictures</td>\n",
              "      <td>NaN</td>\n",
              "      <td>ham</td>\n",
              "      <td>1999-12-10</td>\n",
              "    </tr>\n",
              "    <tr>\n",
              "      <th>1</th>\n",
              "      <td>1</td>\n",
              "      <td>vastar resources , inc .</td>\n",
              "      <td>gary , production from the high island larger ...</td>\n",
              "      <td>ham</td>\n",
              "      <td>1999-12-13</td>\n",
              "    </tr>\n",
              "    <tr>\n",
              "      <th>2</th>\n",
              "      <td>2</td>\n",
              "      <td>calpine daily gas nomination</td>\n",
              "      <td>- calpine daily gas nomination 1 . doc</td>\n",
              "      <td>ham</td>\n",
              "      <td>1999-12-14</td>\n",
              "    </tr>\n",
              "    <tr>\n",
              "      <th>3</th>\n",
              "      <td>3</td>\n",
              "      <td>re : issue</td>\n",
              "      <td>fyi - see note below - already done .\\nstella\\...</td>\n",
              "      <td>ham</td>\n",
              "      <td>1999-12-14</td>\n",
              "    </tr>\n",
              "    <tr>\n",
              "      <th>4</th>\n",
              "      <td>4</td>\n",
              "      <td>meter 7268 nov allocation</td>\n",
              "      <td>fyi .\\n- - - - - - - - - - - - - - - - - - - -...</td>\n",
              "      <td>ham</td>\n",
              "      <td>1999-12-14</td>\n",
              "    </tr>\n",
              "  </tbody>\n",
              "</table>\n",
              "</div>\n",
              "    <div class=\"colab-df-buttons\">\n",
              "\n",
              "  <div class=\"colab-df-container\">\n",
              "    <button class=\"colab-df-convert\" onclick=\"convertToInteractive('df-aaf8669b-45cd-4f7b-972c-8464d8cd61bf')\"\n",
              "            title=\"Convert this dataframe to an interactive table.\"\n",
              "            style=\"display:none;\">\n",
              "\n",
              "  <svg xmlns=\"http://www.w3.org/2000/svg\" height=\"24px\" viewBox=\"0 -960 960 960\">\n",
              "    <path d=\"M120-120v-720h720v720H120Zm60-500h600v-160H180v160Zm220 220h160v-160H400v160Zm0 220h160v-160H400v160ZM180-400h160v-160H180v160Zm440 0h160v-160H620v160ZM180-180h160v-160H180v160Zm440 0h160v-160H620v160Z\"/>\n",
              "  </svg>\n",
              "    </button>\n",
              "\n",
              "  <style>\n",
              "    .colab-df-container {\n",
              "      display:flex;\n",
              "      gap: 12px;\n",
              "    }\n",
              "\n",
              "    .colab-df-convert {\n",
              "      background-color: #E8F0FE;\n",
              "      border: none;\n",
              "      border-radius: 50%;\n",
              "      cursor: pointer;\n",
              "      display: none;\n",
              "      fill: #1967D2;\n",
              "      height: 32px;\n",
              "      padding: 0 0 0 0;\n",
              "      width: 32px;\n",
              "    }\n",
              "\n",
              "    .colab-df-convert:hover {\n",
              "      background-color: #E2EBFA;\n",
              "      box-shadow: 0px 1px 2px rgba(60, 64, 67, 0.3), 0px 1px 3px 1px rgba(60, 64, 67, 0.15);\n",
              "      fill: #174EA6;\n",
              "    }\n",
              "\n",
              "    .colab-df-buttons div {\n",
              "      margin-bottom: 4px;\n",
              "    }\n",
              "\n",
              "    [theme=dark] .colab-df-convert {\n",
              "      background-color: #3B4455;\n",
              "      fill: #D2E3FC;\n",
              "    }\n",
              "\n",
              "    [theme=dark] .colab-df-convert:hover {\n",
              "      background-color: #434B5C;\n",
              "      box-shadow: 0px 1px 3px 1px rgba(0, 0, 0, 0.15);\n",
              "      filter: drop-shadow(0px 1px 2px rgba(0, 0, 0, 0.3));\n",
              "      fill: #FFFFFF;\n",
              "    }\n",
              "  </style>\n",
              "\n",
              "    <script>\n",
              "      const buttonEl =\n",
              "        document.querySelector('#df-aaf8669b-45cd-4f7b-972c-8464d8cd61bf button.colab-df-convert');\n",
              "      buttonEl.style.display =\n",
              "        google.colab.kernel.accessAllowed ? 'block' : 'none';\n",
              "\n",
              "      async function convertToInteractive(key) {\n",
              "        const element = document.querySelector('#df-aaf8669b-45cd-4f7b-972c-8464d8cd61bf');\n",
              "        const dataTable =\n",
              "          await google.colab.kernel.invokeFunction('convertToInteractive',\n",
              "                                                    [key], {});\n",
              "        if (!dataTable) return;\n",
              "\n",
              "        const docLinkHtml = 'Like what you see? Visit the ' +\n",
              "          '<a target=\"_blank\" href=https://colab.research.google.com/notebooks/data_table.ipynb>data table notebook</a>'\n",
              "          + ' to learn more about interactive tables.';\n",
              "        element.innerHTML = '';\n",
              "        dataTable['output_type'] = 'display_data';\n",
              "        await google.colab.output.renderOutput(dataTable, element);\n",
              "        const docLink = document.createElement('div');\n",
              "        docLink.innerHTML = docLinkHtml;\n",
              "        element.appendChild(docLink);\n",
              "      }\n",
              "    </script>\n",
              "  </div>\n",
              "\n",
              "\n",
              "    <div id=\"df-59affe0a-c914-49b8-b524-5ea38ad400da\">\n",
              "      <button class=\"colab-df-quickchart\" onclick=\"quickchart('df-59affe0a-c914-49b8-b524-5ea38ad400da')\"\n",
              "                title=\"Suggest charts\"\n",
              "                style=\"display:none;\">\n",
              "\n",
              "<svg xmlns=\"http://www.w3.org/2000/svg\" height=\"24px\"viewBox=\"0 0 24 24\"\n",
              "     width=\"24px\">\n",
              "    <g>\n",
              "        <path d=\"M19 3H5c-1.1 0-2 .9-2 2v14c0 1.1.9 2 2 2h14c1.1 0 2-.9 2-2V5c0-1.1-.9-2-2-2zM9 17H7v-7h2v7zm4 0h-2V7h2v10zm4 0h-2v-4h2v4z\"/>\n",
              "    </g>\n",
              "</svg>\n",
              "      </button>\n",
              "\n",
              "<style>\n",
              "  .colab-df-quickchart {\n",
              "      --bg-color: #E8F0FE;\n",
              "      --fill-color: #1967D2;\n",
              "      --hover-bg-color: #E2EBFA;\n",
              "      --hover-fill-color: #174EA6;\n",
              "      --disabled-fill-color: #AAA;\n",
              "      --disabled-bg-color: #DDD;\n",
              "  }\n",
              "\n",
              "  [theme=dark] .colab-df-quickchart {\n",
              "      --bg-color: #3B4455;\n",
              "      --fill-color: #D2E3FC;\n",
              "      --hover-bg-color: #434B5C;\n",
              "      --hover-fill-color: #FFFFFF;\n",
              "      --disabled-bg-color: #3B4455;\n",
              "      --disabled-fill-color: #666;\n",
              "  }\n",
              "\n",
              "  .colab-df-quickchart {\n",
              "    background-color: var(--bg-color);\n",
              "    border: none;\n",
              "    border-radius: 50%;\n",
              "    cursor: pointer;\n",
              "    display: none;\n",
              "    fill: var(--fill-color);\n",
              "    height: 32px;\n",
              "    padding: 0;\n",
              "    width: 32px;\n",
              "  }\n",
              "\n",
              "  .colab-df-quickchart:hover {\n",
              "    background-color: var(--hover-bg-color);\n",
              "    box-shadow: 0 1px 2px rgba(60, 64, 67, 0.3), 0 1px 3px 1px rgba(60, 64, 67, 0.15);\n",
              "    fill: var(--button-hover-fill-color);\n",
              "  }\n",
              "\n",
              "  .colab-df-quickchart-complete:disabled,\n",
              "  .colab-df-quickchart-complete:disabled:hover {\n",
              "    background-color: var(--disabled-bg-color);\n",
              "    fill: var(--disabled-fill-color);\n",
              "    box-shadow: none;\n",
              "  }\n",
              "\n",
              "  .colab-df-spinner {\n",
              "    border: 2px solid var(--fill-color);\n",
              "    border-color: transparent;\n",
              "    border-bottom-color: var(--fill-color);\n",
              "    animation:\n",
              "      spin 1s steps(1) infinite;\n",
              "  }\n",
              "\n",
              "  @keyframes spin {\n",
              "    0% {\n",
              "      border-color: transparent;\n",
              "      border-bottom-color: var(--fill-color);\n",
              "      border-left-color: var(--fill-color);\n",
              "    }\n",
              "    20% {\n",
              "      border-color: transparent;\n",
              "      border-left-color: var(--fill-color);\n",
              "      border-top-color: var(--fill-color);\n",
              "    }\n",
              "    30% {\n",
              "      border-color: transparent;\n",
              "      border-left-color: var(--fill-color);\n",
              "      border-top-color: var(--fill-color);\n",
              "      border-right-color: var(--fill-color);\n",
              "    }\n",
              "    40% {\n",
              "      border-color: transparent;\n",
              "      border-right-color: var(--fill-color);\n",
              "      border-top-color: var(--fill-color);\n",
              "    }\n",
              "    60% {\n",
              "      border-color: transparent;\n",
              "      border-right-color: var(--fill-color);\n",
              "    }\n",
              "    80% {\n",
              "      border-color: transparent;\n",
              "      border-right-color: var(--fill-color);\n",
              "      border-bottom-color: var(--fill-color);\n",
              "    }\n",
              "    90% {\n",
              "      border-color: transparent;\n",
              "      border-bottom-color: var(--fill-color);\n",
              "    }\n",
              "  }\n",
              "</style>\n",
              "\n",
              "      <script>\n",
              "        async function quickchart(key) {\n",
              "          const quickchartButtonEl =\n",
              "            document.querySelector('#' + key + ' button');\n",
              "          quickchartButtonEl.disabled = true;  // To prevent multiple clicks.\n",
              "          quickchartButtonEl.classList.add('colab-df-spinner');\n",
              "          try {\n",
              "            const charts = await google.colab.kernel.invokeFunction(\n",
              "                'suggestCharts', [key], {});\n",
              "          } catch (error) {\n",
              "            console.error('Error during call to suggestCharts:', error);\n",
              "          }\n",
              "          quickchartButtonEl.classList.remove('colab-df-spinner');\n",
              "          quickchartButtonEl.classList.add('colab-df-quickchart-complete');\n",
              "        }\n",
              "        (() => {\n",
              "          let quickchartButtonEl =\n",
              "            document.querySelector('#df-59affe0a-c914-49b8-b524-5ea38ad400da button');\n",
              "          quickchartButtonEl.style.display =\n",
              "            google.colab.kernel.accessAllowed ? 'block' : 'none';\n",
              "        })();\n",
              "      </script>\n",
              "    </div>\n",
              "\n",
              "    </div>\n",
              "  </div>\n"
            ],
            "application/vnd.google.colaboratory.intrinsic+json": {
              "type": "dataframe",
              "variable_name": "df",
              "summary": "{\n  \"name\": \"df\",\n  \"rows\": 33716,\n  \"fields\": [\n    {\n      \"column\": \"Unnamed: 0\",\n      \"properties\": {\n        \"dtype\": \"number\",\n        \"std\": 9733,\n        \"min\": 0,\n        \"max\": 33715,\n        \"num_unique_values\": 33716,\n        \"samples\": [\n          3820,\n          3504,\n          30823\n        ],\n        \"semantic_type\": \"\",\n        \"description\": \"\"\n      }\n    },\n    {\n      \"column\": \"Subject\",\n      \"properties\": {\n        \"dtype\": \"category\",\n        \"num_unique_values\": 12773,\n        \"samples\": [\n          \"start date : 1 / 27 / 02 ; hourahead hour : 5 ;\",\n          \"anshuman shrivastava\",\n          \"developmental plan\"\n        ],\n        \"semantic_type\": \"\",\n        \"description\": \"\"\n      }\n    },\n    {\n      \"column\": \"Message\",\n      \"properties\": {\n        \"dtype\": \"category\",\n        \"num_unique_values\": 15793,\n        \"samples\": [\n          \"start date : 1 / 19 / 02 ; hourahead hour : 24 ; hourahead schedule download failed . manual intervention required .\\nlog messages :\\nparsing file - - > > o : \\\\ portland \\\\ westdesk \\\\ california scheduling \\\\ iso final schedules \\\\ 2002011924 . txt\\nerror : dbcaps 97 data : cannot perform this operation on a closed database\\n! ! ! unknown database .\\nalias : dbcaps 97 data\\n! ! ! unknown database .\\nalias : dbcaps 97 data\\n! ! ! unknown database .\\nalias : dbcaps 97 data\\nerror : dbcaps 97 data : cannot perform this operation on a closed database\\n! ! ! unknown database .\\nalias : dbcaps 97 data\\n! ! ! unknown database .\\nalias : dbcaps 97 data\\n! ! ! unknown database .\\nalias : dbcaps 97 data\\nerror : dbcaps 97 data : cannot perform this operation on a closed database\\n! ! ! unknown database .\\nalias : dbcaps 97 data\\n! ! ! unknown database .\\nalias : dbcaps 97 data\\nerror : dbcaps 97 data : cannot perform this operation on a closed database\\nerror : dbcaps 97 data : cannot perform this operation on a closed database\\nerror : dbcaps 97 data : cannot perform this operation on a closed database\\n! ! ! unknown database .\\nalias : dbcaps 97 data\\n! ! ! unknown database .\\nalias : dbcaps 97 data\\n! ! ! unknown database .\\nalias : dbcaps 97 data\\n! ! ! unknown database .\\nalias : dbcaps 97 data\\n! ! ! unknown database .\\nalias : dbcaps 97 data\\n! ! ! unknown database .\\nalias : dbcaps 97 data\\n! ! ! unknown database .\\nalias : dbcaps 97 data\\nerror : dbcaps 97 data : cannot perform this operation on a closed database\",\n          \"- - - - - - - - - - - - - - - - - - - - - - forwarded by gary w lamphier / hou / ect on 02 / 14 / 2000\\n09 : 43 am - - - - - - - - - - - - - - - - - - - - - - - - - - -\\ngroetzingerp @ valero . com on 02 / 11 / 2000 04 : 08 : 47 pm\\nto : gary w lamphier / hou / ect @ ect\\ncc :\\nsubject : clear lake methanol\\nour people tell me that the t / a is going as planned and clmp plans to begin\\nstart up on sunday . since it is a cold startup , it could take as long as a\\nweek to get to full rates . in any event , clmp plans to begin pulling gas at\\nreduced rates late sunday or so .\",\n          \"dave will continue to have the friday afternoon \\\" budget meetings \\\" with one\\nchange : effective april 21 , 2000 the time will change from\\n4 : 00 pm to 3 : 00 pm .\\ndate : fridays this friday , aril 14 , 2000 remains at 4 : 00 pm\\ntime : 3 : 00 pm - 4 : 00 pm\\nlocation : 3321\\ntopic : budget meeting\\nif you have any questions / conflicts , please feel free to call me or bev\\n( 5 - 7857 ) .\\nthanks ,\\nkay 3 - 0643\"\n        ],\n        \"semantic_type\": \"\",\n        \"description\": \"\"\n      }\n    },\n    {\n      \"column\": \"Class\",\n      \"properties\": {\n        \"dtype\": \"category\",\n        \"num_unique_values\": 2,\n        \"samples\": [\n          \"spam\",\n          \"ham\"\n        ],\n        \"semantic_type\": \"\",\n        \"description\": \"\"\n      }\n    },\n    {\n      \"column\": \"Date\",\n      \"properties\": {\n        \"dtype\": \"object\",\n        \"num_unique_values\": 1527,\n        \"samples\": [\n          \"2001-12-24\",\n          \"2000-03-23\"\n        ],\n        \"semantic_type\": \"\",\n        \"description\": \"\"\n      }\n    }\n  ]\n}"
            }
          },
          "metadata": {},
          "execution_count": 2
        }
      ]
    },
    {
      "cell_type": "markdown",
      "source": [
        "#Data Preprocessing\n",
        "To clean our data, we first check for missing values. Any empty messages will be filled with an empty string (\"\"). We then encode the target variable using binary values: 0 for ham and 1 for spam. We also observe the types of each feature."
      ],
      "metadata": {
        "id": "I95p7ZaIGOC8"
      }
    },
    {
      "cell_type": "code",
      "source": [
        "print(df.isna().sum())\n",
        "df[\"Message\"]=df[\"Message\"].fillna(\"\")\n",
        "df[\"Class\"]=df[\"Class\"].map({\"ham\":0,\"spam\":1})\n",
        "df.info()"
      ],
      "metadata": {
        "colab": {
          "base_uri": "https://localhost:8080/"
        },
        "id": "j6PrMFGip834",
        "outputId": "8e04e43b-b9e5-48d6-e4e7-9ce3ff2525ae"
      },
      "execution_count": null,
      "outputs": [
        {
          "output_type": "stream",
          "name": "stdout",
          "text": [
            "Unnamed: 0     0\n",
            "Subject        0\n",
            "Message       52\n",
            "Class          0\n",
            "Date           0\n",
            "dtype: int64\n",
            "<class 'pandas.core.frame.DataFrame'>\n",
            "RangeIndex: 33716 entries, 0 to 33715\n",
            "Data columns (total 5 columns):\n",
            " #   Column      Non-Null Count  Dtype \n",
            "---  ------      --------------  ----- \n",
            " 0   Unnamed: 0  33716 non-null  int64 \n",
            " 1   Subject     33716 non-null  object\n",
            " 2   Message     33716 non-null  object\n",
            " 3   Class       33716 non-null  int64 \n",
            " 4   Date        33716 non-null  object\n",
            "dtypes: int64(2), object(3)\n",
            "memory usage: 1.3+ MB\n"
          ]
        }
      ]
    },
    {
      "cell_type": "markdown",
      "source": [
        "# Splitting Data\n",
        "We split our data into a training and test set using an 80-20 split.\n"
      ],
      "metadata": {
        "id": "L6Y9ENs6Iobu"
      }
    },
    {
      "cell_type": "code",
      "source": [
        "# before splitting, we shuffle dataset\n",
        "df = df.sample(frac=1, random_state=42).reset_index(drop=True)\n",
        "train_size=int(0.8*len(df))\n",
        "train_df=df[:train_size]\n",
        "test_df=df[train_size:]"
      ],
      "metadata": {
        "id": "FY0_kTPM--d5"
      },
      "execution_count": null,
      "outputs": []
    },
    {
      "cell_type": "markdown",
      "source": [
        "##Checking for Class Imbalance\n",
        "Before we proceed, it is important to check for class imbalance. This would mean that there are significantly more messages of one category than the other.\n",
        "Below, we see that the probability of a spam message and the probability of a ham message are both around %50, meaning our dataset is balanced."
      ],
      "metadata": {
        "id": "9xWBtezhI17R"
      }
    },
    {
      "cell_type": "code",
      "source": [
        "print(df[\"Class\"].value_counts())\n",
        "p_spam=round((df[\"Class\"] == 1).sum()/len(df),3)\n",
        "p_ham=round((df[\"Class\"]==0).sum()/len(df),3)\n",
        "print(f\"The probability of spam is {p_spam*100}%\")\n",
        "print(f\"The probability of ham is {p_ham*100}%\")"
      ],
      "metadata": {
        "id": "x-0GvcZ_A77c",
        "colab": {
          "base_uri": "https://localhost:8080/"
        },
        "outputId": "ad9880db-b2f9-4663-e5ae-a288451d20d7"
      },
      "execution_count": null,
      "outputs": [
        {
          "output_type": "stream",
          "name": "stdout",
          "text": [
            "Class\n",
            "1    17171\n",
            "0    16545\n",
            "Name: count, dtype: int64\n",
            "The probability of spam is 50.9%\n",
            "The probability of ham is 49.1%\n"
          ]
        }
      ]
    },
    {
      "cell_type": "markdown",
      "source": [
        "# Choosing Features Using Mutual Information\n",
        "\n",
        "To improve the performance of our spam classifier and reduce computational complexity, we selected the top 1000 words with the highest mutual information (MI) scores. Mutual information measures the degree of association between each word and the class label. Words with high MI are those that provide the most information about whether a message is spam or ham. By focusing on these highly informative words, we reduce noise from irrelevant terms and improve overall model performance."
      ],
      "metadata": {
        "id": "BDA5h2NiJIQb"
      }
    },
    {
      "cell_type": "code",
      "source": [
        "\n",
        "from sklearn.feature_extraction.text import CountVectorizer\n",
        "from sklearn.feature_selection import mutual_info_classif\n",
        "\n",
        "\n",
        "#Find the top 1000 words with highest mutual information\n",
        "vectorizer = CountVectorizer(binary=True, max_features=1000)\n",
        "X = vectorizer.fit_transform(train_df[\"Message\"])\n",
        "y = train_df[\"Class\"]\n",
        "\n",
        "mi_scores = mutual_info_classif(X, y, discrete_features=True)\n",
        "\n",
        "\n",
        "mi_df = pd.DataFrame({\n",
        "    \"word\": vectorizer.get_feature_names_out(),\n",
        "    \"MI_score\": mi_scores\n",
        "}).sort_values(by=\"MI_score\", ascending=False)\n",
        "\n",
        "mi_df\n",
        "vocab=mi_df[\"word\"].to_numpy()\n",
        "print(\"first 10 words in vocabulary: \", vocab[:10])\n"
      ],
      "metadata": {
        "colab": {
          "base_uri": "https://localhost:8080/"
        },
        "id": "kz70ELgWlW1r",
        "outputId": "db4ab4c4-015a-468a-b342-7acd94e6f153"
      },
      "execution_count": null,
      "outputs": [
        {
          "output_type": "stream",
          "name": "stdout",
          "text": [
            "first 10 words in vocabulary:  ['not' 'expense' 'by' 'on' 'couple' 'for' '24' 'cost' 'point' '2002']\n"
          ]
        }
      ]
    },
    {
      "cell_type": "code",
      "source": [
        "#visualize the message column of our training set\n",
        "train_df[\"Message\"]"
      ],
      "metadata": {
        "id": "3CpVvnR1nPEN",
        "colab": {
          "base_uri": "https://localhost:8080/",
          "height": 453
        },
        "outputId": "46f683a2-40fe-4c9e-a848-f373921f23aa"
      },
      "execution_count": null,
      "outputs": [
        {
          "output_type": "execute_result",
          "data": {
            "text/plain": [
              "0        i tried calling you this am but your phone rol...\n",
              "1                   - bammel neon groups - fall 2001 . doc\n",
              "2        fyi , kim .\\n- - - - - original message - - - ...\n",
              "3        start date : 2 / 6 / 02 ; hourahead hour : 24 ...\n",
              "4        fyi , kim .\\n- - - - - original message - - - ...\n",
              "                               ...                        \n",
              "26967    trade count , by 11 : 00 am , for last 30 days...\n",
              "26968    i added an extra \" printable page \" button on ...\n",
              "26969    give us your feeback and\\nyou could win cool c...\n",
              "26970    fyi , kim .\\n- - - - - original message - - - ...\n",
              "26971    cambridge energy research associates ( cera ) ...\n",
              "Name: Message, Length: 26972, dtype: object"
            ],
            "text/html": [
              "<div>\n",
              "<style scoped>\n",
              "    .dataframe tbody tr th:only-of-type {\n",
              "        vertical-align: middle;\n",
              "    }\n",
              "\n",
              "    .dataframe tbody tr th {\n",
              "        vertical-align: top;\n",
              "    }\n",
              "\n",
              "    .dataframe thead th {\n",
              "        text-align: right;\n",
              "    }\n",
              "</style>\n",
              "<table border=\"1\" class=\"dataframe\">\n",
              "  <thead>\n",
              "    <tr style=\"text-align: right;\">\n",
              "      <th></th>\n",
              "      <th>Message</th>\n",
              "    </tr>\n",
              "  </thead>\n",
              "  <tbody>\n",
              "    <tr>\n",
              "      <th>0</th>\n",
              "      <td>i tried calling you this am but your phone rol...</td>\n",
              "    </tr>\n",
              "    <tr>\n",
              "      <th>1</th>\n",
              "      <td>- bammel neon groups - fall 2001 . doc</td>\n",
              "    </tr>\n",
              "    <tr>\n",
              "      <th>2</th>\n",
              "      <td>fyi , kim .\\n- - - - - original message - - - ...</td>\n",
              "    </tr>\n",
              "    <tr>\n",
              "      <th>3</th>\n",
              "      <td>start date : 2 / 6 / 02 ; hourahead hour : 24 ...</td>\n",
              "    </tr>\n",
              "    <tr>\n",
              "      <th>4</th>\n",
              "      <td>fyi , kim .\\n- - - - - original message - - - ...</td>\n",
              "    </tr>\n",
              "    <tr>\n",
              "      <th>...</th>\n",
              "      <td>...</td>\n",
              "    </tr>\n",
              "    <tr>\n",
              "      <th>26967</th>\n",
              "      <td>trade count , by 11 : 00 am , for last 30 days...</td>\n",
              "    </tr>\n",
              "    <tr>\n",
              "      <th>26968</th>\n",
              "      <td>i added an extra \" printable page \" button on ...</td>\n",
              "    </tr>\n",
              "    <tr>\n",
              "      <th>26969</th>\n",
              "      <td>give us your feeback and\\nyou could win cool c...</td>\n",
              "    </tr>\n",
              "    <tr>\n",
              "      <th>26970</th>\n",
              "      <td>fyi , kim .\\n- - - - - original message - - - ...</td>\n",
              "    </tr>\n",
              "    <tr>\n",
              "      <th>26971</th>\n",
              "      <td>cambridge energy research associates ( cera ) ...</td>\n",
              "    </tr>\n",
              "  </tbody>\n",
              "</table>\n",
              "<p>26972 rows × 1 columns</p>\n",
              "</div><br><label><b>dtype:</b> object</label>"
            ]
          },
          "metadata": {},
          "execution_count": 25
        }
      ]
    },
    {
      "cell_type": "code",
      "source": [
        "#get columns of our DataFrame as arrays (to feed into model)\n",
        "train_list = train_df['Message'].tolist()\n",
        "test_list=test_df['Message'].tolist()\n",
        "print(train_list[:5])\n",
        "print(test_list[:5])\n",
        "test_lab=test_df[\"Class\"].to_numpy()\n"
      ],
      "metadata": {
        "id": "qW-v1adBndtv",
        "colab": {
          "base_uri": "https://localhost:8080/"
        },
        "outputId": "f6439a55-28e3-423e-cdf7-1f0a10b1deca"
      },
      "execution_count": null,
      "outputs": [
        {
          "output_type": "stream",
          "name": "stdout",
          "text": [
            "[\"i tried calling you this am but your phone rolled to someone else ' s voicemail . can you call me when you get a chance ?\\n- - - - - original message - - - - -\\nfrom : farmer , daren j .\\nsent : thursday , january 10 , 2002 2 : 06 pm\\nto : hill , garrick\\nsubject : re : tenaska iv\\nrick ,\\ni ' ve had a couple of meetings today . i ' m sorry i ' m just getting back to you . i tried to call but the voice mail said that you were unavailable . so , give me a call when you get a chance .\\nd\\n- - - - - original message - - - - -\\nfrom : hill , garrick\\nsent : wednesday , january 09 , 2002 6 : 11 pm\\nto : farmer , daren j .\\nsubject : re : tenaska iv\\ni ' ll call you on thursday . . . what ' s a good time ?\\n- - - - - original message - - - - -\\nfrom : farmer , daren j .\\nsent : wednesday , january 09 , 2002 3 : 03 pm\\nto : hill , garrick\\ncc : olsen , michael\\nsubject : tenaska iv\\nrick ,\\nwe need to talk about the ability of ena to continue its the current role as agent of tenaska iv .\\n1 ) since the end on november , ena has not been able to complete gas trading transactions . we cannot find any counterparties to trade physical gas in texas . this , of course , is due to the bankruptcy . as a result , we are not able to sale tenaska ' s excess fuel . we did contact brazos to ask if they would buy a portion of the gas at a gas daily price , but they do not want it ( gas daily pricing has been below the firm contract price for a while ) . in december , we had to cut 10 , 000 / day from the 7 th through the 27 th . for january , we haven ' t had to cut yet , but i am sure that the pipe will ask us to do this in the near future .\\n2 ) for november activity ( which was settled in dec ) , ena owes tenaska iv for the excess supply that we sold . however , due to the bankruptcy , we could not make payments out . ena could not pay the suppliers or the pipeline . james armstrong paid the counterparties directly . i think that he should continue to do this for dec and jan . we should not transfer any funds from tenaska iv to ena .\\ni don ' t know how enron ' s ownership in the plant factors out in the bankruptcy preceding . but we need to determine how to go forward with the fuel management .\\nplease give me a call or e - mail me . we can get together sometime thurs or fri morning .\\nd\", '- bammel neon groups - fall 2001 . doc', 'fyi , kim .\\n- - - - - original message - - - - -\\nfrom : frazier , perry\\nsent : thursday , march 07 , 2002 2 : 25 pm\\nto : lebeau , randy ; watson , kimberly ; abdmoulaie , mansoor\\nsubject : re : re ivanhoe e . s . d\\njust a couple of additional thoughts , the cost estimate for esd mods of $ 130 , 000 will typically be , about 25 % more . the e abdmoulaie , mansoor ; frazier , perry\\nsubject : fw : re ivanhoe e . s . d\\nhere is an estimate for the upgrade to the ivanhoe esd system . please keep in mind that the hp at the location has not been in operation for several years and if it is ever required , we may be looking a major expense for that , too . ( $ 200 , 000 + or - )\\n- - - - - original message - - - - -\\nfrom : jordan , fred\\nsent : thursday , march 07 , 2002 7 : 24 am\\nto : lebeau , randy\\nsubject : re ivanhoe e . s . d\\nfyi\\n- - - - - - - - - - - - - - - - - - - - - - forwarded by fred jordan / et & s / enron on 03 / 07 / 2002 07 : 10 am - - - - - - - - - - - - - - - - - - - - - - - - - - -\\n>\\neddie pool\\n03 / 07 / 2002 07 : 13 am\\nto : fred jordan / et & s / enron @ enron\\ncc :\\nsubject : re ivanhoe e . s . d\\nfred\\nhere is what i came up with on the ivanhoe station .\\n>', \"start date : 2 / 6 / 02 ; hourahead hour : 24 ; no ancillary schedules awarded . no variances detected .\\nlog messages :\\nparsing file - - > > o : \\\\ portland \\\\ westdesk \\\\ california scheduling \\\\ iso final schedules \\\\ 2002020624 . txt\\n! ! ! general sql error .\\ncouldn ' t update ; currently locked by user ' admin ' on machine ' nahou - trdts 5 ' .\\ntable\\n- - - - energy import / export schedule - - - -\\n* * * final schedule not found for preferred schedule .\\ndetails :\\ntrans _ type : final\\nsc _ id : ectstnw\\nmkt _ type : 2\\ntrans _ date : 2 / 6 / 02\\ntie _ point : malin _ 5 _ rndmtn\\ninterchg _ id : enrj _ ciso _ 3000\\nengy _ type : firm\", 'fyi , kim .\\n- - - - - original message - - - - -\\nfrom : frazier , perry\\nsent : thursday , march 07 , 2002 2 : 25 pm\\nto : lebeau , randy ; watson , kimberly ; abdmoulaie , mansoor\\nsubject : re : re ivanhoe e . s . d\\njust a couple of additional thoughts , the cost estimate for esd mods of $ 130 , 000 will typically be , about 25 % more . the e abdmoulaie , mansoor ; frazier , perry\\nsubject : fw : re ivanhoe e . s . d\\nhere is an estimate for the upgrade to the ivanhoe esd system . please keep in mind that the hp at the location has not been in operation for several years and if it is ever required , we may be looking a major expense for that , too . ( $ 200 , 000 + or - )\\n- - - - - original message - - - - -\\nfrom : jordan , fred\\nsent : thursday , march 07 , 2002 7 : 24 am\\nto : lebeau , randy\\nsubject : re ivanhoe e . s . d\\nfyi\\n- - - - - - - - - - - - - - - - - - - - - - forwarded by fred jordan / et & s / enron on 03 / 07 / 2002 07 : 10 am - - - - - - - - - - - - - - - - - - - - - - - - - - -\\n>\\neddie pool\\n03 / 07 / 2002 07 : 13 am\\nto : fred jordan / et & s / enron @ enron\\ncc :\\nsubject : re ivanhoe e . s . d\\nfred\\nhere is what i came up with on the ivanhoe station .\\n>']\n",
            "['houston , we have a problem\\nthe economist , 11 / 03 / 01\\nenron gets $ 1 billion new credit line , but must pledge top gas - pipeline assets\\nthe wall street journal , 11 / 02 / 01\\nenron \\' s shares fall and debt rating is cut\\nthe new york times , 11 / 02 / 01\\nthe state calpers is urged to challenge enron finance : the public employee pension fund holds 3 million shares of the energy firm , whose stock has plunged . state senator calls for action .\\nlos angeles times , 11 / 02 / 01\\nfinancing offers lure buyers\\nthe washington post , 11 / 02 / 01\\ncompanies nov 2 , 2001\\ncompanies nov 2 , 2001\\nworld stock markets : wall st buoyed by microsoft peace talks\\nfinancial times ; nov 2 , 2001\\nenron gets $ 1 billion\\nfinancial times ; nov 2 , 2001\\nusa : wrapup 2 - enron lines up cash to soothe worried wall street .\\nreuters english news service , 11 / 02 / 01\\nenron corp . : credit rating cut again ; $ 1 billion secured\\nchicago tribune , 11 / 02 / 01\\nindia ongc plans enron oil , gas field bid if bg deal fails\\ndow jones energy service , 11 / 02 / 01\\nenron may sell india dabhol power shr at discount - lender\\ndow jones international news , 11 / 02 / 01\\n` buying out enron \\' s stake in dabhol unit won \\' t help \\'\\nthe times of india , 11 / 02 / 01\\ndabhol lenders \\' meet in london cancelled\\nbusiness standard , 11 / 02 / 01\\nusa : critics question andersen \\' s handling of enron .\\nreuters english news service , 11 / 01 / 01\\nenron : online trading volume sees normal decline thursday\\ndow jones energy service , 11 / 01 / 01\\npower supplier enron \\' s stock drops another 14 percent\\nassociated press newswires , 11 / 01 / 01\\nusa : update 1 - s & p cuts enron ratings , may cut ratings again .\\nreuters english news service , 11 / 01 / 01\\nenron \\' s credit rating cut after $ 1 bln loan secured ( update 9 )\\nbloomberg , 11 / 01 / 01\\nusa : enron u . s . energy trade so far skirts credit woes .\\nreuters english news service , 11 / 01 / 01\\nindia press : dabhol creditors meeting in london called off\\ndow jones international news , 11 / 01 / 01\\nfinance source : world reporter ( tm ) - ft mccarthy\\nthe troubles of enron , a texan powerhouse in the energy markets , could result in a new financial crisis\\njust last year , visitors to enron \\' s glittering headquarters in houston were greeted by a giant banner that proclaimed the firm , \" the world \\' s leading energy company \" . that annoyed enron \\' s smaller energy - trading rivals , many of which have offices only a stone \\' s throw away in houston \\' s energy alley , but not as much as what came next - a new banner , declaring enron \" the world \\' s leading company \" . in recent weeks , as the company has been engulfed by a financial crisis , that banner has quietly been removed .\\nthe heady mix of audacity , ambition and arrogance revealed by the banners is as good a guide as any to enron \\' s remarkable rise and fall . forged in the 1980 s by the merger of two troubled gas - pipeline firms , enron drove the development of the sophisticated spot - and - derivatives markets in energy that it has come to dominate . indeed , such is the scale of its operations , and its dealings with many of the world \\' s financial institutions , that some observers see parallels with long - term capital management ( ltcm ) , the hedge fund that failed in 1998 - and not just because seemingly brilliant financial alchemists have been humbled . were enron to go bust - unlikely , but in the current nervous climate , not impossible - might a crisis ensue ?\\ntroubles in california \\' s politically crazed power market , an ill - advised foray into telecoms bandwidth trading and concerns about management badly dented enron \\' s share price earlier this year , prompting the departure of jeffrey skilling , the firm \\' s newish chief executive , in august . kenneth lay , an avid free - marketeer , friend of george bush and visionary chairman of the firm , was obliged to resume hands - on control .\\nthis has not slowed enron \\' s decline . day by day , it seems to be sinking deeper into a financial quagmire that is largely of its own creation . not least thanks to its lack of transparency , the firm \\' s credibility with the markets has eroded to the point that talk of a possible takeover or even bankruptcy is widespread .\\nenron \\' s reputation for financial wizardry has been turned from an asset to a liability since its third - quarter results came out in mid - october , showing a $ 1 billion write - off on water distribution , broadband trading and other investments . worse , disclosed only in passing by mr lay in a conference call with analysts , the firm suffered a $ 1 . 2 billion reduction in capital , stemming from a hedging deal with a related private - equity fund called ljm . the charge was due to enron \\' s forced sale of 55 m of its own shares when the partnership was unwound this summer . almost nobody outside enron had been aware of the terms of the deal with ljm , a \" structured finance vehicle \" .\\nenron \\' s failure to offer details about the risks from other related partnerships have led many to fear the worst about its huge balance sheet . its shares plunged by 19 % on october 30 th alone ( see chart on next page ) , before recovering a bit the next day .\\nandrew fastow , who was replaced as chief financial officer on october 24 th , was a general partner in ljm . jeffrey mcmahon , his successor , has much to do to restore confidence . questions abound . were the trusts run at arm \\' s length ? what did mr fastow earn from the partnership ? ominously , the securities and exchange commission ( sec ) has now launched a formal inquiry .\\nmoody \\' s , a rating agency , last week cut its rating on the company \\' s debt to barely above \" junk \" level . further downgrades might unleash claims from other off - balance - sheet partnerships . those known about , such as atlantic water and marlin water , do not seem big enough to bankrupt enron , but speculation is rife about what other obligations might lurk secretly in other structured vehicles .\\na lower credit rating could destroy enron \\' s core franchise as the leading energy middleman , by scaring away customers and freezing the wholesale energy markets . that might have nasty consequences in other markets . enron acknowledges that it is a large participant in the derivatives market , holding a portfolio with a notional value of $ 21 billion . rightly or wrongly , many traders believe that figure vastly understates enron \\' s presence . if the firms on the other side of enron \\' s trades start to fear that payment is not coming , they might curb their other trading , producing a knock - on effect . where this could end up is a subject of much conjecture .\\nutilities that trade energy could be hit . so could the commodity and derivative operations of large commercial and investment banks . the ties are notably tight between enron and j . p . morgan chase , according to ventana capital , a research firm . not only does j . p . morgan provide innumerable separate credit arrangements for enron ; it also has the largest derivative operation of any bank , as well as a large business trading commodities . there is \" no doubt \" that enron is on the other side of many j . p . morgan trades , says ventana .\\nwere enron to fail , ventana thinks \" it has the potential to cause a major financial crisis \" , worse , in some ways , than what occurred after ltcm . that merely froze the debt markets temporarily , whereas enron deals in the building - blocks of the american economy . imagine gridlock in the markets for gas , timber , coal , metals , fertiliser , bandwidth or indeed any of the products enron deals in .\\nas yet , this all seems unlikely . many big traders were happy to deal with enron this week , although at shorter maturities and with less complex structures than in the past . trading on enrononline was reportedly strong . jim donnell of duke energy , a big energy trader , described \" a huge dichotomy \" between the collapse in confidence in enron in the equity and credit markets and the \" business as usual \" attitude taken by big commodity trading firms when considering enron as a counterparty .\\nyet as questions about enron \\' s credit - standing spread this week , it began to have difficulty making markets in some instruments . few firms would accept enron \\' s name as guarantor of a credit derivative . in its core energy markets some big trading counterparties refused the enron name . on the intercontinental exchange ( ice ) , two houses reportedly specified that they would not take enron \\' s credit .\\nthe biggest credit exposure appeared to be with banks , whose $ 3 billion of back - up lines to enron were drawn down last week . j . p . morgan arranged an additional $ 1 billion emergency credit - line this week . this back - up , it is widely assumed , is needed mainly to meet margin calls triggered by the ratings downgrade .\\ntoo big to fail ?\\nis enron too big and too important to be allowed to fail ? philip verleger , an energy economist , thinks that enron is so central to energy markets that it could not easily be replaced . enron \\' s rivals mostly disagree , unsurprisingly .\\nbut even enron \\' s worst enemies do not ( yet ) expect the firm to die from its current crisis . most traders seem keen that it should live . \" nobody likes to see a wholesale trader disappear , \" says one . they admire enron \\' s armies of traders and their ability to do deals . enrononline is one of the internet \\' s few success stories , assuming its huge trading volumes do indeed generate big profits , as the firm claims .\\nenron \\' s , and the financial system \\' s , problems could worsen if doubts grow about its ability to meet its obligations . on the surface it is rich in assets , if not cash . but its lack of transparency leaves uncomfortable room for doubt . in june 2000 , the economist challenged mr lay to reply to accusations of arrogance , high - handedness and a propensity to push the limits of the law . his response was revealing . to show that such charges were baseless , he pointed to another firm unfairly maligned by critics : drexel burnham lambert , an investment bank that rose from obscurity to market prominence in the junk - bond boom of the 1980 s . drexel was accused of arrogance , he groused , but it was only being \" very innovative and very aggressive \" . drexel was not bailed out : michael milken , its star , ended up in jail , and drexel collapsed in a heap of bad debts and ignominy .\\ncopyright ? 2000 dow jones & company , inc . all rights reserved .\\nenron gets $ 1 billion new credit line , but must pledge top gas - pipeline assets\\nby rebecca smith\\nstaff reporter of the wall street journal\\n11 / 02 / 2001\\nthe wall street journal\\na 4\\n( copyright ( c ) 2001 , dow jones & company , inc . )\\nenron corp . secured $ 1 billion in new credit lines , but had to pledge its best gas - pipeline assets as collateral . the deal did little to appease an important credit - rating agency .\\nstandard & poor \\' s ratings group lowered its rating on enron \\' s long - term debt by one notch to triple - b from triple - b - plus and short - term debt to single - a - 3 from single - a - 2 , citing a belief that enron \\' s planned sale of assets \" will be insufficient to restore its long - term credit quality \" to historic levels . moody \\' s investors service inc . had issued debt downgrades earlier this week .\\ns & p also lowered ratings on the debt of enron \\' s pipeline systems , transwestern pipeline co . and northern natural gas co . , that were used to collateralize a $ 1 billion bank borrowing from j . p . morgan chase & co . and citigroup inc . \\' s salomon smith barney unit . enron said it would use the money from the 364 - day credit lines to refinance roughly $ 250 million in maturing obligations , leaving it $ 750 million to boost short - term liquidity .\\nin dropping the pipeline credit ratings by two notches , s & p noted that the assets have become \" more strategic to the company , \" in part because they can be relied upon to consistently make money , unlike many other enron hard - asset investments .\\nthe pipelines produced $ 450 million in gas - transport revenue and an $ 85 million pretax profit in the third quarter on generally rising rates . that compared with revenue of $ 424 million for enron \\' s foreign assets that scraped by with a $ 19 million earnings contribution .\\ntodd shipman , credit analyst for s & p , said there have been concerns that enron might take on too much debt , trying to prove it has enough cash on hand to meet its energy - trading obligations . but he said s & p wasn \\' t worried by the most recent borrowing , because \" we don \\' t think it will be a permanent part of the balance sheet . \" however , he added that the amount of additional debt it can take on top of the $ 13 billion it now has outstanding is \" little to none . \" with the sharp fall in its stock price , enron \\' s market capitalization is now around $ 10 billion .\\nan enron spokesman said \" it should be a nonissue \" because the company has no intention of borrowing more money anytime soon .\\nin announcing the borrowing plan , enron \\' s new chief financial officer , jeff mcmahon , said it was a move to \" enhance investor confidence . \" but stock - market investors reacted otherwise and enron stock gave up most of wednesday \\' s gain , closing at $ 11 . 99 , down $ 1 . 91 , or 14 % , in 4 p . m . new york stock exchange composite trading . with many enron bonds trading at two - thirds of their par value , bondholders didn \\' t seem comforted either .\\nenron has been in a defensive posture since it announced a third - quarter loss of $ 618 million two weeks ago , followed by news that it also took a $ 1 . 2 billion equity write - down , based partly on transactions involving a handful of its own officers . the company replaced its chief financial officer , andrew fastow , after the securities and exchange commission began an inquiry into related - party transactions . enron on wednesday disclosed that the inquiry had been elevated to a formal probe .\\ncopyright ? 2000 dow jones section c\\nenron \\' s shares fall and debt rating is cut\\nby richard a . oppel jr .\\n11 / 02 / 2001\\nthe new york times\\npage 11 , column 1\\nc . 2001 new york times company\\ndallas , nov . 1 - - with investors absorbing news of a formal securities and exchange commission investigation and a downgrading by another large credit - rating agency , shares of the enron corporation fell 13 . 7 percent today , giving back most of the gains from wednesday \\' s rally .\\nlate on wednesday , enron , the energy - trading giant based in houston , said the s . e . c . had intensified its inquiry into the company \\' s finances , making it a formal investigation , carrying subpoena power .\\nand today , standard & poor \\' s lowered its rating on enron \\' s senior debt by one notch , leaving it a few notches above junk bond status . the downgrading came after a similar cut by moody \\' s investors service on monday . s . & p . left enron under review for a possible further downgrading .\\nif enron \\' s credit rating were dropped below investment grade , it could force the company to issue millions of shares of stock to satisfy debts and prompt other big energy - trading concerns to curtail their business with enron .\\ns . & p . said that the company \\' s \\' \\' financial flexibility has continued to diminish \\' \\' and that it had been unable \\' \\' to calm investors that are unsure about the strength of enron \\' s core energy marketing business . \\' \\' but the rating agency also said it thought that \\' \\' enron \\' s liquidity position is adequate to see the company through the current period of uncertainty \\' \\' and that , so far , \\' \\' most counterparties have maintained their trading activity with enron . \\' \\'\\nthis morning , enron said it had obtained $ 1 billion in additional financing . the line of credit may help the company convince investors and trading partners that it can weather this crisis . but some industry officials said investors might have reacted negatively because enron had to pledge assets from two subsidiaries , northern natural gas and transwestern pipeline , to secure the credit line .\\nan enron spokeswoman said that she did not know what interest rates the credit lines carried and that the company had no plans to seek even more financing deals .\\nenron \\' s shares have fallen by more than half in the last two weeks because of the s . e . c . investigation and worries about off - balance - sheet debts and transactions with investment partnerships involving the company \\' s former chief financial officer , andrew s . fastow , who was ousted last week . enron shares fell $ 1 . 91 today , to $ 11 . 99 .\\nsome analysts are beginning to attribute a swift recent rally in natural gas prices in part to the possibility that a collapse of enron would roil the commodity markets . enron dominates natural gas and electricity trading in the united states .\\nin new york today , natural gas for december delivery fell 0 . 1 cent , to $ 3 . 29 for a million british thermal units . the contract has soared from about $ 2 . 70 over the last two weeks as enron \\' s troubles became public .\\n\\' \\' enron has a massive exposure to both the buy side and the sell side in gas and other commodities , \\' \\' said jay saunders , oil and gas analyst at deutsche banc alex . brown , \\' \\' and if they \\' re at risk financially , then you \\' re exposed to that so you want to cover that risk . anybody who has enron as a counterparty in a trade might be concerned about getting paid . \\' \\'\\nmr . saunders added that other factors had also lifted prices lately , including falling rates of gas being put in storage for use this winter .\\ncopyright ? 2000 dow jones metro desk\\nthe state calpers is urged to challenge enron finance : the public employee pension fund holds 3 million shares of the energy firm , whose stock has plunged . state senator calls for action .\\nnancy vogel\\ntimes staff writer\\n11 / 02 / 2001\\nlos angeles times\\nhome edition\\nb - 8\\ncopyright 2001 / the times mirror company\\nsacramento - - a state senator has encouraged the managers of california \\' s public employee retirement fund to challenge , perhaps with a lawsuit , the management of enron corp . , the high - flying energy company whose stock has plummeted more than 80 % in the last year .\\nthe california public employee retirement system , the nation \\' s biggest public pension fund , owns roughly 3 million shares of enron common stock . enron shares , once valued at nearly $ 85 , fell $ 1 . 91 thursday to $ 11 . 99 on the new york stock exchange .\\nsen . steve peace ( d - el cajon ) urged management of calpers to deal aggressively with the houston - based company , which is being investigated by the securities and exchange commission for a potential conflict of interest by its former chief financial officer .\\ninvestors have begun complaining of a paucity of information released by enron about its financial transactions , and the stock has fallen dramatically in response . on thursday , a major credit agency , standard & poor \\' s , lowered its ratings on enron , dealing the company another financial blow .\\n\" it is clear that the events surrounding enron have created a serious lack of confidence in the judgment of enron \\' s management team , \" peace wrote tuesday in a letter to calpers chief executive james e . burton . \" it is , therefore , incumbent on calpers , as trustee of public employees \\' ownership rights and as founder of the corporate governance movement , to improve enron \\' s corporate governance to increase share value . \"\\nin an interview , peace said calpers should consider a shareholder lawsuit or join with other shareholders to force out enron \\' s management . calpers provides retirement and health benefits to more than 1 . 2 million state and local public employees and their families .\\nenron officials did not respond to a request for comment on peace \\' s letter . calpers officials said they were considering the letter .\\npeace has clashed repeatedly with enron since the early 1990 s , when the company was trying to influence the utility regulators and lawmakers forging a plan to turn california \\' s regulated electricity industry into a competitive market . peace chaired the legislative committee that crafted deregulation legislation .\\n\" enron wants a market where consumers have limited knowledge , and they want to operate their business where stockholders have the most limited information possible , \" peace said in an interview .\\nonce a natural gas pipeline company , enron has grown into the world \\' s largest energy trader .\\nbesides owning enron stock , calpers has joined with the firm to invest in energy development .\\nin 1993 , calpers and enron each contributed $ 250 million to an investment fund guided by enron . when calpers ended the partnership in 1997 and sold its position to enron , it earned $ 125 million , a 23 % return , a calpers spokesman said . they teamed up again in 1998 , with each putting up $ 500 million for energy industry investments . enron tapped $ 150 million of calpers \\' money before calpers \\' commitment to the partnership expired .\\ncopyright ? 2000 dow jones & company , inc . all rights reserved .\\nfinancial\\nfinancing offers lure buyers\\n11 / 02 / 2001\\nthe washington post\\nfinal\\neo 2\\ncopyright 2001 , the washington post co . all rights reserved\\nthanks to interest - free financing , general motors and ford motor reported sharply higher october auto sales while chrysler saw a more modest rise . gm reported that it sold 546 , 093 vehicles last month , a 31 percent increase over october 2000 . ford sold 400 , 893 vehicles in october , 36 percent more than the same month a year ago . sales of daimlerchrysler \\' s chrysler , dodge and jeep brand vehicles were up 5 percent , with just more than 209 , 000 units sold . gm set an all - time monthly record for truck sales , while sales of ford \\' s beleaguered explorer suv set an october record .\\nenron gets loan - - at a price\\nenron received a $ 1 billion loan from j . p . morgan chase and salomon smith barney but had to pledge its natural gas pipelines as collateral . pledging the pipelines signals enron \\' s desperation to convince shareholders and trading partners that it \\' s creditworthy as the securities and exchange commission investigates partnerships run by its former chief financial officer , investors said . questions about enron \\' s dealings with the partnerships have shut it out of commercial - paper markets , where most large corporations go to find low - interest , short - term debt .\\nhttp : / / www . washingtonpost . com\\ncopyright ? 2000 dow jones & company , inc . all rights reserved .\\ncompanies nov 2 , 2001\\nby julie earle and john labate\\nnothing has added to enron \\' s growth more than its aggressive and dominant position in the trading markets for gas and electricity that the houston - based company helped to create .\\na decade - long series of bold and innovative moves by enron has not only changed the company but transformed the way us energy companies manage risk and trade energy products from region to region .\\non any given day enron is the principal in about 25 per cent of the online and offline trades in the energy and natural gas markets , according to analysts \\' estimates .\\nwith an ongoing investigation by us securities regulators into enron \\' s accounting and disclosure practices , and enron \\' s market value falling by half in the past two weeks , many are wondering what impact enron \\' s mounting troubles could have on the trading markets .\\nanalysts say that in the worst case , long - term scenarios , if enron \\' s debt is downgraded to junk status or if the company depletes its considerable cash resources , the energy and natural gas markets could be hit in multiple ways .\\n\" if you have something as big as enron in a space saying they have no more money , you would have real effects and volatility in the market , \" said todd shipman , an analyst at credit rating agency standard & poor \\' s .\\nfew competitors want to see enron exit the trading markets , however , since it provides so much liquidity to the markets , and fewer expect that to happen .\\nmany of enron \\' s energy rivals , including dynegy , aquila and duke energy , are also trading partners , or counterparties to enron . as such they may be closely tied to enron \\' s fate in the short term .\\nthe biggest near - term threat is if there is another change in enron \\' s credit status .\\nthis week moody \\' s investors service downgraded enron to two notches above junk status . further reductions are , for the moment , the main worry among its rivals and trading partners , although enron debt remains at investment - grade levels .\\n\" certainly , whenever anybody is downgraded to junk status , their counterparties become concerned about how much credit they will extend , \" said gerald keenan , a partner at pwc consulting in chicago .\\n\" everyone is re - evaluating their credit exposure to enron but few companies have stopped trading with it .\\n\" it is often the counterparty of choice since it makes markets in areas where there is not a lot of liquidity . \"\\nenron \\' s trading partners are believed so far not to have changed the terms on their existing contracts with enron .\\nhowever , if enron \\' s financial status worsens , the lack of confidence could have its own negative impact on the energy trading markets .\\nexisting market hedges between these multiple firms in the markets could begin to unwind , analysts warn , which could add to short - term instability in the energy marketplace .\\nit is unlikely , however , that energy prices would be hit since terms would quickly be renegotiated and stability return to the trading markets .\\nany change in ownership in enron could bring stability to the trading markets , say analysts .\\ncopyright : the financial times limited\\ncompanies nov 2 , 2001\\nby robert clow and sheila mcnulty\\nenron , the troubled us energy trading group , has secured a dollars lbn credit line with jp morgan chase and citigroup arm , salomon smith barney .\\nenron \\' s management signalled last weekend that it expected to raise more cash to supplement the dollars 3 . 3 bn it received last week from drawing down its bank lines .\\nthe new loan will be secured against the assets of enron \\' s northern natural gas company and transwestern pipeline . the proceeds will pay down maturing debt and increase short - term funds .\\nenron declined to comment on the terms and conditions of the deal , saying it was not yet closed .\\non octoberm , 16 enron management announced a dollars 1 . 01 bn charge and a dollars 1 . 2 bn reduction of shareholders equity as a result of off - balance sheet private equity transactions set up by andrew fastow , its former chief financial officer .\\nthose deals raised questions about whether mr fastow was acting in the best interests of enron \\' s other shareholders , which became the basis for a securities and exchange commission investigation .\\nif the credit rating agencies downgrade the company \\' s debt further , counterparties might increase the collateral they require to trade with enron . that could squeeze the embattled company \\' s profit margins still further .\\nit is not yet clear how the rating agencies will react to enron borrowing against its pipeline assets . their stable revenues have been one of the cornerstones of enron \\' s rating .\\nin an effort to safeguard its ratings , a senior management delegation told all the rating agencies on wednesday that it was going to be retreating from risk taking .\\n\" we are going to explore new markets , \" the company said . \" but what we have learned that we can expand into new markets without making large expenditures . \" www . ft . com / energy\\ncopyright : the financial times limited\\nworld stock markets : wall st buoyed by microsoft peace talks\\nfinancial times ; nov 2 , 2001\\nby mary chung\\nus equities overcameearly hesitancy to risedecisively by midday as investors shrugged off grim manufacturing data and focused on microsoft \\' s tentative agreement to settle its antitrust battle with the government .\\nthe dow jones industrial average was up 67 . 59 at 9 , 142 . 73 and the s & p 500 index 8 . 60 at 1 , 068 . 38 . the nasdaq composite rose 23 . 66 at 1 , 713 . 86 .\\ninvestors cheered news that the us justice department and microsoft had agreed the outline of a settlement requiring the world \\' s largest software company to give computer manufacturers more freedom in the design of windows desktops .\\nmicrosoft rose 4 per cent at dollars 60 . 54 and gave a boost to the technology sector as shares in oracle added 2 per cent dollars 13 . 79 , cisco climbed 1 . 4 per cent at dollars 17 . 15 and sun microsystems gained 4 per cent at dollars 10 . 55 .\\nchip stocks were broadly higher , with the philadelphia semiconductor index up 4 per cent . shares in intel tacked on 2 . 2 per cent at dollars 24 . 97 and advanced micro devices climbed 6 . 3 per cent at dollars 10 . 46 .\\nthe sector was boosted by an industry report showing the third consecutive month of smaller declines for chip sales . stocks had flirted in negative territory after more disappointing economic data painting a bleak picture for the us economy .\\nthe national association of purchasing management data showing factory activity fell to a nine - year low in october .\\nthe data followed a report from the labour department showing the number of americans requesting unemployment insurance benefits on an ongoing basis rose to the highest since may 1983 .\\nsubodh kumar , chief investment strategist at cibc world markets , said he was encouraged by the market \\' s ability to bounce back from negative news .\\n\" even when bad news happens , there \\' s initial weakness then the market bounces back , \" he said .\\nhowever , woes continued for enron , the embattled energy trading company , which fell 9 . 4 per cent at dollars 12 . 59 after the us securities and exchange commission upgraded its probe into the company \\' s accounting methods to a formal investigation .\\nunited airlines rose 2 per cent at dollars 13 in spite of a third - quarter loss of dollars 1 . 16 bn .\\neastman kodak rebounded 2 per cent at dollars 26 . 07 after seeing heavy losses this week amid an analyst downgrade and a cut in its debt rating by moody \\' s investor service .\\ntoronto was flat in late morning trade and by midsession the tse - 300 composite index was just 8 . 30 higher at 6 , 894 . 00 .\\nbanks bucked the weaker trend . bank of nova scotia jumped 60 cents to cdollars 44 . 45 and bank of montreal was 33 cents higher at 34 . 19 .\\ncopyright : the financial times limited\\nnov . 2 , 2001\\nhouston chronicle\\nenron gets $ 1 billion more\\npledging assets , credit downgrade bruise shares\\nby laura goldberg\\ncopyright 2001 houston chronicle\\nenron corp . \\' s bid to shore up investor confidence by announcing it had lined up $ 1 billion in credit didn \\' t succeed thursday .\\nshares in houston \\' s largest company closed down $ 1 . 91 at $ 11 . 99 . and that was before a second rating agency downgraded enron \\' s credit ratings .\\nthe action by standard & poor \\' s wasn \\' t a surprise to wall street and isn \\' t likely to help enron \\' s sagging shares .\\nenron , the world \\' s largest energy trader , said thursday morning it had reached a deal with the investment banking units of citigroup and j . p . morgan chase & co . for $ 1 billion in credit lines to be backed by a significant portion of enron \\' s pipeline assets .\\nlast week , enron tapped into a $ 3 . 3 billion revolving credit line that wasn \\' t secured by collateral . it banked about $ 1 . 1 billion and is using the rest to pay off short - term debt obligations .\\ninvestors reacted thursday to several pieces of news .\\none was wednesday night \\' s disclosure by enron that federal securities regulators are formally investigating business dealings between enron and investment partnerships formerly run by andrew fastow , who enron removed last week as chief financial officer .\\nsince enron revealed two financial hits related to the investment partnerships on oct . 16 , wall street has raised an expanding number of questions about its financial health . some investors also saw the fact that enron \\' s new credit will be asset - backed as negative .\\n\" what it tells you is that now they have to start using the crown jewels as security , \" said donald coxe , chairman of harris investment management , where the harris insight equity fund owns about 78 , 000 shares in enron . \" any royal family which has to pledge the crown and scepter to get a loan in the private markets tends to be about three days from the republicans breaking down the barriers of the palaces . \"\\nbut enron spokesman mark palmer said using the assets as collateral meant enron could get the credit negotiated quickly .\\n\" it has to do with speed , \" he said , adding that enron sought to reassure outsiders its balance sheet is strong and that it has available cash to support its core energy trading business .\\nof the new credit , which is expected to be finalized shortly , $ 250 million will be used to pay off debt obligation that \\' s about to mature . the rest will be available as cash , palmer said .\\nthe assets of its northern natural gas co . and transwestern pipeline co . , the collateral enron pledged could support another $ 200 million in credit if need be , he said , adding that enron didn \\' t believe it needed more than $ 1 billion .\\nenron , which transformed itself from a pipeline company to a trader in everything from electricity to paper , still has about 25 , 000 miles of pipelines . the two assets pledged represent more than 19 , 000 miles of that .\\nmonday , moody \\' s investors service downgraded enron \\' s long - term debt one level to a rating that \\' s still two notches above what are commonly called junk bonds .\\nthursday , standard & poor \\' s did the equivalent . it is also downgraded enron \\' s short - term ratings and said it was reviewing the company for potential additional downgrades .\\nif enron \\' s credit ratings fall from investment grade to junk status , it will trigger a wave negative consequences , including some that would damage its trading business .\\npart of enron \\' s purpose in setting up new credit is to help it keep an investment - grade rating .\\nin its report , s & p said it downgraded enron because it believes the company \\' s plans , including asset sales , won \\' t be enough to warrant the credit rating enron had . it expressed concerns that enron could face some permanent erosion of its share of the energy trading market if its main competitors take advantage of its weakened state and could have trouble keeping key personnel .\\ncarol coale , a stock analyst with prudential securities in houston , said in a report thursday that enron may need to issue 120 million new shares or more \" to keep the rating agencies at bay . \"\\nusa : wrapup 2 - enron lines up cash to soothe worried wall street .\\nby jeff franks\\n11 / 02 / 2001\\nreuters english news service\\n( c ) reuters limited 2001 .\\nhouston , nov 1 ( reuters ) - enron corp . , gathering money to soothe a worried wall street , lined up $ 1 billion of new credit on thursday , then saw its credit rating cut for a second time this week as the nation \\' s largest energy trader struggled to restore investor confidence shaken by questionable financial transactions .\\nshares in the houston - based company , whose dealings are under investigation by the u . s . securities and exchange commission , tumbled $ 1 . 91 , or 13 . 7 percent , to $ 11 . 99 as the market continued a two - week - long pummeling of the stock .\\nat issue are off - the - balance sheet deals with limited partnerships , run by then - chief financial officer andrew fastow , which contributed to a $ 1 billion charge against third quarter earnings and a $ 1 . 2 billion reduction in shareholder equity announced on oct . 16 . angry investors say enron has not fully explained the transactions or whether it faces more liabilities .\\nthe company , taking the tack that an having abundance of money available would ease fears about its financial stability , said on thursday it got $ 1 billion in credit lines from j . p . morgan chase & co . and salomon smith barney inc . , the investment banking arm of citigroup inc .\\nthe new credit , which comes on top of $ 3 . 3 billion in lines that enron tapped last week , came with the proviso that the company \\' s gas and pipeline assets be put up as collateral , a measure usually reserved for firms with \" junk \" credit ratings .\\nallay fears\\nbut a grateful ken lay , enron \\' s chairman and chief executive , thanked the two wall street institutions for their support and said the credit infusion should help allay investors \\' fears .\\n\" we very much appreciate the support of two of our long - standing banking partners , \" he said in a statement . \" with more than $ 1 billion in cash currently on our balance sheet , this additional credit capacity will further solidify enron \\' s standing as the leading market maker in wholesale energy markets . \"\\nthe good news was tempered later in the day by standard & poor \\' s announcement that it had cut enron \\' s credit rating and could do so again if the situation worsens .\\nthe rating agency cut enron \\' s corporate credit and senior unsecured debt ratings to \" bbb , \" two notches above junk status , from \" bbb - plus , \" its subordinated debt rating to \" bbb - minus \" from \" bbb , \" and its commercial paper rating to \" a - 3 \" from \" a - 2 . \"\\nit also downgraded ratings for several enron share trusts .\\ndowngrades could make it harder for enron to issue debt and run its day - to - day business as fellow marketers and traders demand more collateral . if the ratings fall to junk , or below investment - grade , enron could be forced to issue more shares , analysts said .\\ns & p said it cut the ratings because of questions about whether enron was taking sufficient action to fully restore its credit quality .\\n\" the company \\' s financial flexibility has continued to diminish . this crisis of investor confidence can be traced . . . directly to the company \\' s inability to calm investors that are unsure about the strength of enron \\' s core energy marketing business and the viability of the company \\' s plan to restore its credit profile , \" it said .\\nfull disclosure\\n\" a full , frank disclosure and discussion of the business and financial issues facing the company and its plans to address them will be necessary before investors will be able to confidently evaluate the merits of investing in enron securities , \" the agency added .\\ns & p nevertheless said enron \\' s liquidity position is \" adequate \" to see the company through its current problems and that enron was unlikely to see its position as the industry \\' s top energy marketer endangered as long as it operated transparently .\\non monday , moody \\' s investors service cut enron \\' s long - term debt to \" baa 2 , \" also two notches above junk , and warned it may cut that rating and enron \\' s \" prime - 2 \" commercial paper rating .\\nenron was once a wall street darling lauded for its ability to create new internet - based commodity markets that produced soaring profits and a stock price that seemed to defy gravity .\\nbut setbacks in its bandwidth business and overseas investments , plus problems arising from the california power crisis hurt its do - no - wrong image . and in august , former chief executive jeff skilling shocked the financial world by resigning after just six months on the job , citing personal reasons .\\nthe stock , whose year - high was $ 84 , began to sink , then fell off a cliff after the company \\' s oct . 16 announcement . that day , shares closed at $ 33 . 84 .\\ntrying to shore up its credibility , enron replaced fastow last week with another enron executive , jeff mcmahon .\\nthe company said on wednesday an sec \" informal inquiry \" begun oct . 22 had become a formal investigation , possibly indicating regulators did not like what they had seen . it elected university of texas law school dean william powers to the board of directors and put him in charge of an internal probe into the deals .\\ndespite all the bad news of recent weeks , enron said on thursday its core business of energy trading was going strong .\\nenron spokesman eric thode said transactions on the houston - based company \\' s widely watched internet enrononline system were averaging some $ 3 billion to $ 4 billion a day , up from a 30 - day average of $ 2 . 5 billion .\\nenron is by far the nation \\' s largest natural gas and electricity trader , with industry analysts estimating it is involved in some 25 percent of daily trade in those markets .\\ncopyright ? 2000 dow jones $ 1 billion secured\\nassociated press\\n11 / 02 / 2001\\nchicago tribune\\nnorth sports final ; n\\n2\\n( copyright 2001 by the chicago tribune )\\ntroubled enron corp . said thursday it has secured $ 1 billion in new financing , but then saw its credit rating cut for the second time this week and watched its stock price take another dive .\\nenron said it got $ 1 billion in credit lines from j . p . morgan chase & co . and salomon smith barney inc . , but had to put up its natural gas and pipeline assets as collateral .\\nstandard & poor \\' s cut its ratings for enron , downgrading its corporate credit and senior unsecured debt ratings to bbb , two notches above junk status . earlier this week , moody \\' s investors service downgraded the company \\' s long - term debt .\\nenron shares dropped nearly 14 percent , or $ 1 . 91 per share , to close at $ 11 . 99 on the new york stock exchange . after dropping to a nine - year low tuesday , shares of the nation \\' s largest natural gas and power marketer rose 25 percent wednesday amid speculation the company was a takeover candidate .\\nbut after the markets closed wednesday , enron announced the securities and exchange commission had opened an investigation into possible conflicts of interest . the sec is apparently looking into dealings enron had with partnerships led by its former chief financial officer , andrew fastow , who was forced out last week .\\nlate wednesday , enron said it created a special committee headed by university of texas law school dean william powers to respond to the sec investigation . powers also was elected to enron \\' s board of directors .\\ncopyright ? 2000 dow jones & company , inc . all rights reserved .\\nindia ongc plans enron oil , gas field bid if bg deal fails\\n11 / 02 / 2001\\ndow jones energy service\\n( copyright ( c ) 2001 , dow jones & company , inc . )\\nsingapore - ( dow jones ) - india \\' s state - owned oil 65 - 415 - 4066 ; sri . jegarajah @ dowjones . com\\ncopyright ? 2000 dow jones & company , inc . all rights reserved .\\nenron may sell india dabhol power shr at discount - lender\\nby himendra kumar\\nof dow jones newswires\\n11 / 02 / 2001\\ndow jones international news\\n( copyright ( c ) 2001 , dow jones dow jones newswires ; 91 - 11 - 461 - 9426 ; himendra . kumar @ dowjones . com\\ncopyright ? 2000 dow jones source : world reporter ( tm )\\nmumbai : buying out enron \\' s stake in the dabhol power company ( dpc ) is no resolution since the tariff will still be unviable , analysts say .\\neven as enron corp is preparing to sell off its stake in the project to indian financial institutions , who have lent huge sums to the project , experts say a buy - out would make sense only if the bid for enron \\' s share of $ 1 . 3 billion is discounted to under $ 500 million and the loan component is written off by at least $ 500 million , says convenor of the enron virodhi andolan , pradyumna kaul .\\n` ` the project will continue to be unviable even after buying it at low cost , \\' \\' mr kaul asserts . ` ` if lng is the fuel , the energy price will still be more than rs 2 per unit , given the fact that oil will be more than 25 per barrel . this will ensure that the unit cost of power will never be less than rs 3 . 20 , \\' \\' he says .\\nat the moment , enron is willing to sell power at rs 3 . 60 per unit at 90 per cent offtake , he points out . but this is not possible because a high offtake will not be permitted by the maharashtra electricity regulatory commission in the absence of demand . the merc has told the state eletricity board to buy costliest power the last . ` ` and at a low offtake , the plant will be grossly unviable , \\' \\' an expert says .\\napart from buying enron \\' s stake at a low cost , it is necessary to reduce interest rates from indian fis , slash customs duty and sales tax on fuel , he says . these are some of the demands that dpc has already placed before the govermment . ` ` even if the plant is sold , these factors will hike up the cost , \\' \\' he said .\\nanother alternative is to use the plant for peaking load alone , to be used only during a few hours of the day . this would bring down costs , anti - enron activist abhay mehta said . in practical terms , he said , the only player to benefit from a sale is enron corp which is desperately looking to sell its stake .\\nsuch a prospect leaves some grey areas about the future of the judicial inquiry ordered recently by the democratic front government . the probe is yet to get under way and the supreme court case against the project is pending hearing .\\nwhile officials admit that legally the actions will continue , it will not be as effective as if the company is still in the field . it is also possible to come to a mutually acceptable settlement before enron exits the country or speed up the actions , they say .\\n` ` these repercussions are secondary ; the moot point is a speedy solution to the enron issue , \\' \\' says an official .\\nmr mehta says the fact that chief minister vilasrao deshmukh has already agreed to an extension for the judicial probe beyond six months , ` ` if it is found necessary \\' \\' suggests that the government ` ` is not really serious about solving the issue but will rather keep dragging the case till the chickens come home to roost and some political points are scored . \\' \\'\\n` ` the state government \\' s attitude is like that of an ostrich : if you ignore a problem long enough , it will go away , \\' \\' he says .\\ncopyright ? 2000 dow jones & company , inc . all rights reserved .\\ndabhol lenders \\' meet in london cancelled\\nour bureau mumbai\\n11 / 02 / 2001\\nbusiness standard\\n2\\ncopyright ( c ) business standard\\nthe meeting of the lenders of the enron - promoted dabhol power project scheduled for november 2 and 3 in london has been cancelled .\\nthis was supposed to be the last meeting of the lenders before the november 19 deadline by which the dabhol power company is required to fire its final termination notice .\\nsources in the domestic as well as the global lenders consortium confirmed the cancellation of the meeting , but gave conflicting reasons for this . some domestic lenders maintained that the meeting was postponed because a solution to the dabhol problem was in sight . \" the government is working out a solution to the problem along with the domestic financial institutions , \" they said .\\n\" it only makes sense to meet after the solution is worked out , \" said a source in the domestic lenders consortium .\\nthis was sharply contested by a source in the foreign lenders consortium who said that the industrial development bank of india ( idbi ) chairman & managing director p p vohra and icici chief executive officer k v kamath were to attend the meeting , but their last minute engagements resulted in the cancellation of the meeting .\\ncopyright ? 2000 dow jones & company , inc . all rights reserved .\\nusa : critics question andersen \\' s handling of enron .\\nby kevin drawbaugh\\n11 / 01 / 2001\\nreuters english news service\\n( c ) reuters limited 2001 .\\nwashington , nov 1 ( reuters ) - andersen , a top accounting firm , should have done more as auditor for energy giant enron corp . to alert investors to certain partnerships tied to the company that are now being investigated by u . s . authorities , accounting experts said on thursday .\\nas the houston - based energy trading group dealt with a deepening crisis , critics of its auditor andersen said the accountants should have pushed harder for more and clearer disclosure of the partnerships \\' potential for conflicts of interest and financial risk to enron .\\n\" not only is the disclosure seemingly inadequate as to where it \\' s put , it \\' s inadequate as to the attention that \\' s paid to it . then thirdly , it \\' s almost unintelligible , \" said mark cheffers , who heads massachusetts - based accounting consultancy . com , in an interview .\\nenron , whose share price slumped again on thursday , said on wednesday that it was being investigated by the securities and exchange commission , the top u . s . financial markets regulator . an sec spokesman declined to comment .\\nenron last month ousted its chief financial officer andrew fastow , who was instrumental in setting up and managing certain outside partnerships that have been linked to the sec probe .\\nenron \\' s ties to the partnerships were disclosed in enron reports to the sec and investors . andersen , based in chicago , audited those reports and approved them as fair and complete .\\nasked about criticisms of the job the firm did , andersen spokesman patrick dorton said : \" we are committed to quality auditing and protecting the investor interest . knowledgeable parties are looking at these matters . we \\' re not going to respond to speculative commentary . \"\\nenron disclosed in its march 2001 proxy statement that in the year 2000 it paid andersen $ 25 million in auditor fees , as well as $ 27 million in fees for various other work .\\nenron - a former natural gas pipeline group that transformed itself into the nation \\' s largest energy trader - saw its stock close down on thursday near an eight - year low , having lost two - thirds of its value since mid - october .\\ninvestors began dumping enron shares after reports of off - the - balance sheet transactions involving two limited partnerships run by fastow , who was replaced last week by another enron executive , jeff mcmahon .\\nfastow \\' s dual role seen at heart of controversy\\nhow fastow could have balanced his duties as enron cfo with his role as head of the partnerships - which regularly did business with enron - is the key question , sources said .\\nthe partnerships - called ljm 2 co - investment lp and ljm cayman lp - were set up expressly to do huge volumes of highly complex financial transactions wi ? ? ? stow \\' s employer . the transactions were disclosed to enron investors in annual 10 k filings and pr ? ? ? 2000 and 2001 .\\nbut andersen should have done more to put the disclosures in plain english and highlight their potential for possible conflicts and risk to enron \\' s finances , said critics .\\nenron last month said it was taking a $ 1 billion charge against earnings , as well as cutting shareholder equity by $ 1 . 2 billion due to transactions with the fastow - led entities .\\n\" a firm of andersen \\' s magnitude and reputation should always be aware of such possibilities . they should be able to presuppose the what - ifs in any condition , \" said jay nisberg , an accounting consultant based in ridgefield , connecticut .\\nan enron spokeswoman said andersen knew about the ljm partnerships . \" we made them aware of our transactions with the partnerships and they reviewed them to the extent they deemed necessary , \" said enron spokeswoman karen denne .\\neven investors in the partnerships , which by most accounts were tremendously profitable , questioned how they were set up , with enron employee fastow at their head .\\none early investor in ljm 2 was the arkansas teacher retirement system , a pension fund with $ 8 billion in assets . zz zz .\\ncopyright ? 2000 dow jones & company , inc . all rights reserved .\\nenron : online trading volume sees normal decline thursday\\n11 / 01 / 2001\\ndow jones energy service\\n( copyright ( c ) 2001 , dow jones 201 - 938 - 4604 ; mark . golden @ dowjones . com\\ncopyright ? 2000 dow jones & company , inc . all rights reserved .\\npower supplier enron \\' s stock drops another 14 percent\\nby mark babineck\\nassociated press writer\\n11 / 01 / 2001\\nassociated press newswires\\ncopyright 2001 . the associated press . all rights reserved .\\nhouston ( ap ) - troubled enron corp . said thursday it has secured $ 1 billion in new financing , using its natural gas and pipeline assets as collateral . but its stock price took another dive after rising a day earlier on takeover speculation .\\nin trading thursday on the new york stock exchange , enron shares fell nearly 14 percent , or $ 1 . 91 a share , to $ 11 . 99 .\\nafter dropping to a nine - year low on tuesday , shares of the nation \\' s largest natural gas and power marketer rose 25 percent wednesday amid speculation the houston - based company was a takeover candidate .\\nbut after the stock market closed for the day , enron , an important supplier to power - starved california , announced the securities and exchange commission had opened a formal investigation into possible conflicts of interest .\\nthe sec is apparently looking into dealings enron had with partnerships led by its former chief financial officer , andrew fastow , who was forced out last month as investors fled because of questions about the arrangements .\\nwhile referring to the latest sec news as \" noise , \" merrill lynch analyst donato j . eassey said it would subdue enron \\' s stock price .\\n\" we believe the timing and directional uncertainty of this new development will at best cap enron \\' s stock price in the mid - teens while increasing overall volatility , \" eassey said in a note thursday .\\nlate wednesday , enron said it created a special committee headed by university of texas law school dean william powers to respond to the sec investigation . powers also was elected to enron \\' s board of directors .\\n\" i have asked the board to take this action to address fully and forthrightly investors \\' questions and concerns , \" said enron chairman and chief executive kenneth l . lay . \" we will also make every appropriate public disclosure during the course of the sec \\' s investigation . \"\\nhowever , duane grubert , an analyst with sanford c . bernstein and co . in new york , said enron still has much to do to restore investor confidence .\\n\" with ( stock ) values this low , you \\' ve got two camps of investors : guys that hate enron and guys that want to be cautiously attracted to enron , \" grubert said . \" it \\' s led to the trading range being irrationally low and shares being oversold . it \\' s not something the company wants . \"\\nenron \\' s stock has skidded since the company reported a $ 638 million third quarter loss just over two weeks ago , dragged down by a one - time charge of $ 1 . 01 billion attributed to various losses . some of these losses have been tied to partnerships managed by fastow , who was ousted last week .\\nearlier this week , moody \\' s investors service downgraded the company \\' s long - term debt and warned of possible further downgrades .\\non tuesday , shares hit a nine - year low of $ 11 . 16 . with such a depressed stock price , the wall street journal reported that enron was being eyed as a possible takeover target .\\npotential buyers include general electric \\' s ge capital unit , warren buffett \\' s berkshire hathaway and royal dutch shell , the journal said .\\n- - -\\non the net :\\nhttp : / / www . enron . com\\nap photo xnyr 310 of oct . 29\\ncopyright ? 2000 dow jones & company , inc . all rights reserved .\\nusa : update 1 - s & p cuts enron ratings , may cut ratings again .\\n11 / 01 / 2001\\nreuters english news service\\n( c ) reuters limited 2001 .\\nnew york , nov 1 ( reuters ) - standard & poor \\' s on thursday cut its ratings for embattled energy trader enron corp . and warned it may cut the ratings again because of what it described as \" uncertainties \" surrounding the company and the possibility it may face further problems in the capital markets .\\nhouston - based enron said on wednesday it is being probed by the securities and exchange commission .\\ndowngrades could make it tougher for enron to issue debt and run its day - to - day business as fellow marketers and traders demand more collateral . if the ratings fall to junk , or below investment - grade , enron could be forced to issue more shares .\\ns & p cut enron \\' s corporate credit and senior unsecured debt ratings to \" bbb , \" two notches above junk status , from \" bbb - plus , \" its subordinated debt rating to \" bbb - minus \" from \" bbb , \" and its commercial paper rating to \" a - 3 \" from \" a - 2 . \"\\nthe rating agency also downgraded ratings for several enron share trusts .\\ns & p warned it may cut all of these ratings again . a downgrade to the commercial paper rating would take that rating to junk status . all leading u . s . rating agencies , including s & p , generally rate all of a company \\' s senior unsecured debt and commercial paper either investment - grade or junk .\\ns & p nevertheless said enron \\' s liquidity position is \" adequate \" to see the company through its current problems .\\nso long as enron provides market participants with their usual liquidity and price transparency , it said , \" it is unlikely that any significant long - term damage to enron \\' s franchise as the premier energy marketer will be sustained . \"\\nthe s & p analyst who covers enron was not immediately available for further comment .\\non monday , moody \\' s investors service cut enron \\' s long - term debt to \" baa 2 , \" also two notches above junk , and warned it may cut that rating and enron \\' s \" prime - 2 \" commercial paper rating .\\nenron shares closed thursday on the new york stock exchange at $ 11 . 99 , down $ 1 . 91 , or 13 . 7 percent . they have fallen 65 percent since oct . 16 , when enron said it would take $ 1 . 01 billion in charges for certain investments . the shares hit a nine - year low on tuesday .\\n\" crisis of investor confidence \"\\ns & p said enron \\' s plan to sell assets and use other means to repair its \" damaged balance sheet \" will be \" insufficient \" to restore its historical \" bbb - plus \" ratings .\\n\" this crisis of investor confidence can be traced . . . directly to the company \\' s inability to calm investors that are unsure about the strength of enron \\' s core energy marketing business and the viability of the company \\' s plan to restore its credit profile , \" it said .\\n\" a full , frank disclosure and discussion of the business and financial issues facing the company and its plans to address them will be necessary before investors will be able to confidently evaluate the merits of investing in enron securities , \" s & p added .\\nenron said on thursday it obtained $ 1 billion in secured credit lines in a bid to help support day - to - day trading operations and bolster investor confidence .\\n\" we are moving aggressively to strengthen our balance sheet and maintain our investment grade credit rating , \" said jeffrey mcmahon , who last week became enron \\' s new chief financial officer , in a statement issued on thursday .\\ncopyright ? 2000 dow jones & company , inc . all rights reserved .\\nenron \\' s credit rating cut after $ 1 bln loan secured ( update 9 )\\n2001 - 11 - 01 18 : 27 ( new york )\\nenron \\' s credit rating cut after $ 1 bln loan secured ( update 9 )\\n( adds company comment in 17 th to 19 th paragraphs . )\\nhouston , nov . 1 ( bloomberg ) - - enron corp . , the largest\\nenergy trader , received a $ 1 billion loan from j . p . morgan chase &\\nco . and salomon smith barney inc . after agreeing to use the\\ncompany \\' s natural - gas pipelines as collateral .\\nenron shares fell 14 percent a day after the u . s . securities\\nand exchange commission began formally investigating partnerships\\nrun by its former chief financial officer . pledging the pipelines\\nsignals enron \\' s desperation to convince shareholders and trading\\npartners that it \\' s creditworthy , investors said .\\n` ` it \\' s not reassuring , it \\' s worrisome , \\' \\' said donald coxe ,\\nmanager of the harris insight equity fund , which owns about 78 , 000\\nenron shares . ` ` if they had to secure the loan , obviously the\\nlenders don \\' t think they can rely on enron \\' s financial\\nstatements . \\' \\'\\nstandard & poor \\' s said after u . s . markets closed that it cut\\nenron \\' s long - term credit rating to ` ` bbb , \\' \\' the second - lowest\\ninvestment grade , from ` ` bbb + . \\' \\' its short - term debt rating was\\ncut to ` ` a - 3 , \\' \\' one grade above junk status , from ` ` a - 2 . \\'\\nthe sec is investigating partnerships run by former cfo\\nandrew fastow that bought and sold enron shares and assets . those\\ntrades cost enron $ 35 million and $ 1 . 2 billion in lost shareholder\\nequity . questions about enron \\' s dealings with the partnerships\\nhave shut it out of commercial - paper markets , where most large\\ncorporations go to find low - interest , short - term debt .\\nlast friday , enron tapped a $ 3 billion credit line to pay off\\n$ 2 . 2 billion in commercial paper it has outstanding . proceeds from\\nthe $ 1 billion secured loan will go for debt payments and to\\nsupplement cash reserves , enron said .\\nbusiness with enron\\nto get the $ 1 billion loan , enron pledged assets of its\\nnorthern natural gas co . and transwestern pipeline co . , which own\\ngas pipeline systems that combined are about 19 , 000 miles long and\\ncan deliver as much as 6 billion cubic feet of gas a day .\\nenron , based in houston , got its start as a natural gas -\\npipeline operator . over the past decade , the company has shed\\nassets such as pipelines and power plants and focused on trading\\nelectricity , gas , wood pulp and other commodities .\\nenron now accounts for about a quarter of u . s . power and gas\\ntrades . the company still has about 25 , 000 miles of gas pipeline .\\nmortgaging those lines is ` ` maybe not such a good signal , \\' \\'\\nsaid roger hamilton , who manages john hancock value funds , which\\nowns 600 , 000 enron shares . ` ` it shows they can \\' t convince banks\\nwith anything but secured assets . \\' \\'\\nshares of enron fell $ 1 . 91 to $ 11 . 99 . earlier , they dropped\\nto $ 11 . 70 . the stock has fallen 86 percent this year .\\nenron \\' s 6 . 4 percent coupon notes due in 2006 fell about 3\\ncents today to be bid at 74 cents on the dollar and offered at 77\\ncents , traders said . until last week , the notes were trading near\\npar value .\\ncredit rating\\nenron must have investment - grade credit to borrow enough to\\nsettle its transactions daily . energy companies including exelon\\ncorp . and northeast utilities have restricted business with enron\\nas the company sought new sources of credit .\\non monday , moody \\' s investors service lowered enron \\' s long -\\nterm credit rating to ` ` baa 2 \\' \\' from ` ` baal , \\' \\' two notches above\\njunk status . it also placed the company \\' s ` ` p - 2 \\' \\' rating for\\ncommercial paper on review for possible downgrade .\\nstandard & poor \\' s said in downgrading enron \\' s credit rating\\ntoday that the company has enough liquidity to see it through the\\n` ` current period of uncertainty . \\' \\' still , s & p said , enron \\' s\\n` ` financial flexibility has continued to diminish \\' \\' because of its\\n` ` inability to calm investors that are unsure about the strength\\nof enron \\' s core energy marketing business . \\' \\'\\nrepayment trigger\\nfalling below investment grade would trigger early repayment\\nterms for $ 3 . 3 billion in bonds held by affiliated companies such\\nas the ones created by fastow . a lower credit rating also reduces\\nthe amount of cash that enron can raise to back its trading\\nbusiness .\\n` ` there are still two levels before those triggers go into\\neffect , \\' \\' enron spokeswoman karen denne said . the announcement of\\ntoday \\' s $ 1 billion loan is ` ` the latest step in an orderly plan to\\nstrengthen our balance sheet , \\' \\' she said . denne outlined three\\nsteps , which include the credit line and a draw - down of $ 3 billion\\nin unsecured credit , which was announced last week .\\nthe final step is $ 2 . 1 billion in asset sales , which the\\ncompany outlined on a conference call last week . enron said it\\nexpects to close on $ 600 million in sales before year \\' s end .\\nthe sales include enron \\' s azurix north america water business\\nto american water works inc . for $ 149 . 8 million , enron \\' s puerto\\nrican power - plant company ecoelectrica holdings ltd . to mirant\\ncorp . and enron \\' s stake in brazilian natural - gas distributor cia .\\ndistribuidora de gas do rio de janeiro to state - owned brazilian\\noil company petroleo brasileiro sa , or petrobras . the latter two\\ntransactions are valued at $ 250 million each , enron spokesman mark\\npalmer said .\\ns & p said today it doesn \\' t think the asset sales and enron \\' s\\nother plans will be enough to restore enron \\' s credit quality to\\nthe ` ` bbb + \\' \\' level it had since 1995 .\\ninvestor confidence\\nthe financing is to ` ` enhance market and investor\\nconfidence , \\' \\' enron chief financial officer jeffrey mcmahon said\\nin a statement .\\nenron can borrow another $ 200 million by bringing other banks\\ninto the loan , denne said . ` ` we don \\' t have any plans to do so at\\nthis point , \\' \\' she said .\\n` ` we are moving aggressively to strengthen our balance sheet\\nand maintain our investment grade credit rating , \\' \\' mcmahon said .\\nmcmahon , then head of enron \\' s industrial markets group , was\\nnamed cfo last week . fastow was ousted in an attempt to restore\\ninvestor confidence .\\n` ` it seems until we know more about the sec investigation ,\\nit \\' s going to be a difficult time for the stock , \\' \\' said tara\\ngately , an energy analyst at loomis sayles & co . , which sold most\\nof its enron shares early last year .\\nj . p . morgan is advising enron on the sale of part of azurix .\\nsalomon smith barney is the investment - banking arm of citigroup\\ninc .\\n- - russell hubbard in the princeton newsroom , 609 - 750 - 4651\\nusa : enron u . s . energy trade so far skirts credit woes .\\nby joseph silha\\n11 / 01 / 2001\\nreuters english news service\\n( c ) reuters limited 2001 .\\nnew york , nov 1 ( reuters ) - enron corp . , whose shares slumped again on thursday amid investors \\' concerns over a credit crunch , has yet to see that fear seriously dent its dealings with other giants of the u . s . gas and power markets .\\n\" trading volumes in our core wholesale businesses remain extremely strong . every day this week , volume on enrononline has exceeded our rolling 30 - day average . we are not seeing people hesitate to do business with us , \" enron spokesman eric thode said .\\nenron is by far the nation \\' s largest natural gas and electricity trader , with industry analysts estimating it is involved in some 25 percent of daily trade in those markets .\\nthe company recently became the target of a securities and exchange commission investigation into financial dealings with partnerships headed by enron \\' s former chief financial officer .\\nthode said transactions on the houston - based company \\' s widely watched internet enrononline system were averaging some $ 3 billion to $ 4 billion a day , up from a 30 - day average of $ 2 . 5 billion .\\nbusiness as usual ?\\nwhile enron \\' s dominance of the industry has long been a sore spot with competitors , many of its biggest trading partners said it was business as usual , despite an 80 percent plunge in the company \\' s share price since january .\\nbut the drain on the company \\' s capital has not gone unnoticed , prompting increased caution among traders but few fears the company will exit the north american energy market .\\n\" enron has come under closer scrutiny , but we haven \\' t changed our policy about dealing with the company . this is a one time event . it \\' s a hurricane , but it doesn \\' t mean the weather next year will be bad . enron will handle this problem , \" al butkus , vice president at utilicorp united , said .\\nbutkus noted enron \\' s problems stem from how the company financed the purchase of some assets , not from its trading operations .\\ncharlotte , n . c . - based duke energy , another large trading partner , also has not curbed its business with enron .\\n\" we have a credit process for our counterparties which tells us how much collateral is required . that could come into play if there were further problems with enron \\' s credit , but we haven \\' t seen that yet , \" duke energy spokesman terry francisco said .\\ntraders at reliant energy , williams cos . , dynegy and el paso corp all said they continue to deal with enron but were closely monitoring the situation .\\ncredit squeeze\\ndespite the current calm among energy traders , analysts cautioned enron \\' s shrinking capitalization could still squeeze its cash supply and hamper its ability to do business .\\nquestions about some off - balance sheet deals with two partnerships helped pummel the company \\' s stock this week to its lowest level since 1992 , shrinking market capitalization to less than $ 9 billion from more than $ 60 billion in january .\\nmost of enron \\' s power and gas deals are in the unregulated over - the - counter ( otc ) market , so no one outside of the company knows what trades are on their books .\\nbut enron , the biggest market maker in energy products , has consistently preached a balanced or hedged book .\\n\" some people may be scaling back their dealings with enron , but i think you can rely on enron to do what they should do in risk management practices , \" ed krapels , director at massachusetts - based energy security analysis inc told reuters .\\n\" i think at the end of the day , their book was balanced enough and they should be able to weather the storm . \"\\nbut krapels cautioned that further deterioration in enron \\' s share price and credit standing might force the company to post larger cash deposits with its counterparties and ultimately restrict trading operations .\\nearlier today , merrill lynch lowered its rating on enron \\' s stock to \" neutral \" from \" accumulate \" .\\nenron \\' s shares ended down $ 1 . 91 , or 13 . 7 percent , at $ 11 . 99 .\\ncopyright ? 2000 dow jones & company , inc . all rights reserved .\\nindia press : dabhol creditors meeting in london called off\\n11 / 01 / 2001\\ndow jones international news\\n( copyright ( c ) 2001 , dow jones dow jones newswires ; dow jones newswires ; 91 - 11 - 461 - 9426 ; himendra . kumar @ dowjones . com\\ncopyright ? 2000 dow jones & company , inc . all rights reserved .', 'fyi , kim .\\n- - - - - original message - - - - -\\nfrom : frazier , perry\\nsent : thursday , march 07 , 2002 2 : 25 pm\\nto : lebeau , randy ; watson , kimberly ; abdmoulaie , mansoor\\nsubject : re : re ivanhoe e . s . d\\njust a couple of additional thoughts , the cost estimate for esd mods of $ 130 , 000 will typically be , about 25 % more . the e abdmoulaie , mansoor ; frazier , perry\\nsubject : fw : re ivanhoe e . s . d\\nhere is an estimate for the upgrade to the ivanhoe esd system . please keep in mind that the hp at the location has not been in operation for several years and if it is ever required , we may be looking a major expense for that , too . ( $ 200 , 000 + or - )\\n- - - - - original message - - - - -\\nfrom : jordan , fred\\nsent : thursday , march 07 , 2002 7 : 24 am\\nto : lebeau , randy\\nsubject : re ivanhoe e . s . d\\nfyi\\n- - - - - - - - - - - - - - - - - - - - - - forwarded by fred jordan / et & s / enron on 03 / 07 / 2002 07 : 10 am - - - - - - - - - - - - - - - - - - - - - - - - - - -\\n>\\neddie pool\\n03 / 07 / 2002 07 : 13 am\\nto : fred jordan / et & s / enron @ enron\\ncc :\\nsubject : re ivanhoe e . s . d\\nfred\\nhere is what i came up with on the ivanhoe station .\\n>', \"start date : 2 / 6 / 02 ; hourahead hour : 24 ; no ancillary schedules awarded . no variances detected .\\nlog messages :\\nparsing file - - > > o : \\\\ portland \\\\ westdesk \\\\ california scheduling \\\\ iso final schedules \\\\ 2002020624 . txt\\n! ! ! general sql error .\\ncouldn ' t update ; currently locked by user ' admin ' on machine ' nahou - trdts 5 ' .\\ntable\\n- - - - energy import / export schedule - - - -\\n* * * final schedule not found for preferred schedule .\\ndetails :\\ntrans _ type : final\\nsc _ id : ectstnw\\nmkt _ type : 2\\ntrans _ date : 2 / 6 / 02\\ntie _ point : malin _ 5 _ rndmtn\\ninterchg _ id : enrj _ ciso _ 3000\\nengy _ type : firm\", 'drogi panie andrzeju ,\\nprosze powolac sie na mnie .\\nw . kaminski\\nandrzej wodnicki on 02 / 22 / 2000 04 : 02 : 42 pm\\nto : vince . j . kaminski @ enron . com\\ncc :\\nsubject : re : aiesec polska - eurolds 2000\\ndrogi panie kaminski !\\nbardzo przepraszam za klopot . wiem , ze jest pan niezmiernie\\nzajetym czlowiekiem . jednak chcialem zapytac sie pana o jeszcze\\njedna kluczowa dla nas sprawe , ze wzgledy na termin naszego\\nwydarzenia - 7 marzec 2000 .\\nmianowicie , czy byloby mozliwe , aby w\\nrozmowie z panem astramowiczem powolac sie na pana .\\nwydaje mi sie , ze bardzo by nam pana nazwisko pomoglo .\\nbardzo liczymy na pana pomoc ,\\npozdrawiam\\nandrzej wodnicki', 'please note that your employees have suggested the following people to\\ncomplete a feedback form on their behalf . you will need to access the\\nperformance management system ( pep ) to either approve or decline these\\nsuggested reviewers . once you have approved the suggested reviewers they\\nwill be notified and can begin completing the feedback form .\\nyour list of employees that have suggested reviewers are listed below :\\ndate suggested : may 19 , 2000\\nfeedback due date : jun 16 , 2000\\nemployee name : kollaros , alexios']\n"
          ]
        }
      ]
    },
    {
      "cell_type": "markdown",
      "source": [
        "## Clean Text Through Helper Function\n",
        "Before putting the messages into our model, we clean the raw messages by lowercasing all words, removing headers, stripping punctuation and newlines, and normalizing spaces."
      ],
      "metadata": {
        "id": "6nkKJHCMB3o7"
      }
    },
    {
      "cell_type": "code",
      "source": [
        "import re\n",
        "\n",
        "def clean_message(text):\n",
        "    text = text.lower()\n",
        "    text = re.split(r\"-{2,}\\s*original message\\s*-{2,}\", text)[0]\n",
        "    text = re.sub(r\"from:.*\\n\", \"\", text)\n",
        "    text = re.sub(r\"to:.*\\n\", \"\", text)\n",
        "    text = re.sub(r\"subject:.*\\n\", \"\", text)\n",
        "    text = re.sub(r\"sent:.*\\n\", \"\", text)\n",
        "\n",
        "    text = text.replace(\"\\n\", \" \")\n",
        "    text = re.sub(r\"[^a-z\\s]\", \"\", text)\n",
        "    text = re.sub(r\"\\s+\", \" \", text).strip()\n",
        "    return text\n",
        "train_mes = [clean_message(msg) for msg in train_list]\n",
        "train_mes[0]\n",
        "train_lab=train_df[\"Class\"].to_numpy()\n",
        "train_lab\n",
        "test_mes=[clean_message(msg) for msg in test_list]\n",
        "test_mes[0]\n",
        "train_lab\n"
      ],
      "metadata": {
        "colab": {
          "base_uri": "https://localhost:8080/"
        },
        "id": "kDwB6YHqZR8u",
        "outputId": "ccea9d70-d7a7-459d-8f29-66d2c013546e"
      },
      "execution_count": null,
      "outputs": [
        {
          "output_type": "execute_result",
          "data": {
            "text/plain": [
              "array([1, 0, 1, ..., 0, 1, 0])"
            ]
          },
          "metadata": {},
          "execution_count": 12
        }
      ]
    },
    {
      "cell_type": "code",
      "source": [
        "def spam(train_mes,train_lab,test_mes):\n",
        "  nwordsham = sum(len(msg) for msg, label in zip(train_mes, train_lab) if label==0)\n",
        "  nwordsspam= sum(len(msg) for msg, label in zip(train_mes, train_lab) if label==1)\n",
        "  train_lab=train_lab.tolist()\n",
        "  train_mes = [msg.split() for msg in train_mes]\n",
        "  test_mes  = [msg.split() for msg in test_mes]\n",
        "  nham = train_lab.count(0)\n",
        "  nspam = train_lab.count(1)\n",
        "  pham=nham/len(train_lab)\n",
        "  pspam=nspam/len(train_lab)\n",
        "  vcounts={}\n",
        "  for i in range(len(train_mes)):\n",
        "    for word in train_mes[i]:\n",
        "      if word not in vcounts:\n",
        "        if train_lab[i]==0:\n",
        "          vcounts[word]=[1,0]\n",
        "        else:\n",
        "          vcounts[word]=[0,1]\n",
        "      else:\n",
        "        if train_lab[i]==0:\n",
        "          vcounts[word][0]+=1\n",
        "        else:\n",
        "          vcounts[word][1]+=1\n",
        "  vocab = set(vcounts.keys())\n",
        "  predclasses=[]\n",
        "  preds=[]\n",
        "  for message in test_mes:\n",
        "    hamtotal=math.log(pham)\n",
        "    spamtotal=math.log(pspam)\n",
        "    for word in set(message):\n",
        "      if word in vocab:\n",
        "        pwham=(vcounts[word][0]+1)/(nwordsham+len(vocab))\n",
        "        pwspam=(vcounts[word][1]+1)/(nwordsspam+len(vocab))\n",
        "        m_count = message.count(word)\n",
        "        hamtotal+=m_count*math.log(pwham)\n",
        "        spamtotal+=m_count*math.log(pwspam)\n",
        "\n",
        "    if hamtotal>=spamtotal:\n",
        "      preds.append(\"ham\")\n",
        "      predclasses.append(0)\n",
        "    else:\n",
        "      preds.append(\"spam\")\n",
        "      predclasses.append(1)\n",
        "  return predclasses\n"
      ],
      "metadata": {
        "id": "t02ui88oLUXi"
      },
      "execution_count": null,
      "outputs": []
    },
    {
      "cell_type": "markdown",
      "source": [
        "## Execute Spam Classifier"
      ],
      "metadata": {
        "id": "Ne8ypTLV9nCN"
      }
    },
    {
      "cell_type": "code",
      "source": [
        "preds=spam(train_mes,train_lab,test_mes)\n",
        "print(preds)\n",
        "print(test_lab)"
      ],
      "metadata": {
        "colab": {
          "base_uri": "https://localhost:8080/"
        },
        "id": "pIiplxVE9mUD",
        "outputId": "a9b37550-22da-4e0b-8bd8-d3d8ff73466c"
      },
      "execution_count": null,
      "outputs": [
        {
          "output_type": "stream",
          "name": "stdout",
          "text": [
            "[0, 1, 1, 0, 0, 1, 1, 0, 1, 1, 1, 1, 0, 1, 1, 0, 0, 0, 1, 0, 0, 1, 0, 1, 0, 0, 0, 1, 1, 0, 1, 1, 1, 1, 1, 1, 0, 1, 1, 0, 1, 1, 0, 0, 1, 1, 0, 1, 1, 1, 1, 1, 0, 1, 1, 1, 1, 1, 1, 0, 1, 0, 1, 0, 1, 0, 0, 0, 1, 0, 1, 0, 0, 0, 0, 1, 0, 1, 0, 1, 1, 1, 1, 0, 1, 0, 0, 0, 0, 0, 0, 1, 0, 1, 1, 1, 1, 0, 0, 1, 1, 0, 0, 0, 1, 0, 0, 1, 0, 0, 0, 1, 1, 1, 0, 1, 0, 1, 1, 0, 0, 0, 0, 1, 0, 1, 0, 0, 1, 0, 1, 1, 1, 0, 1, 0, 1, 1, 1, 1, 0, 1, 1, 0, 0, 1, 1, 1, 1, 0, 1, 1, 1, 1, 0, 0, 1, 0, 1, 1, 0, 0, 0, 1, 1, 0, 0, 0, 1, 0, 1, 1, 0, 0, 0, 0, 0, 1, 0, 1, 1, 0, 1, 1, 0, 0, 0, 1, 0, 1, 1, 1, 1, 0, 0, 1, 0, 1, 0, 1, 0, 1, 0, 1, 1, 0, 1, 0, 1, 0, 0, 0, 1, 0, 0, 0, 1, 1, 0, 1, 1, 1, 0, 1, 1, 1, 0, 1, 1, 1, 0, 0, 1, 1, 1, 1, 0, 0, 1, 0, 1, 0, 1, 1, 1, 1, 1, 0, 0, 1, 1, 0, 0, 0, 1, 1, 1, 0, 0, 0, 0, 1, 1, 1, 1, 1, 1, 0, 1, 0, 0, 1, 0, 0, 0, 0, 1, 0, 1, 1, 1, 0, 1, 1, 0, 1, 0, 0, 1, 0, 0, 0, 0, 1, 1, 0, 0, 1, 0, 0, 0, 0, 0, 0, 0, 0, 1, 1, 1, 1, 1, 1, 0, 1, 0, 0, 0, 0, 1, 0, 0, 0, 1, 1, 1, 1, 0, 1, 1, 1, 0, 1, 0, 1, 1, 0, 0, 0, 1, 1, 1, 0, 1, 1, 1, 0, 0, 1, 1, 0, 1, 1, 0, 1, 1, 0, 0, 0, 1, 0, 0, 1, 0, 1, 0, 1, 0, 1, 1, 1, 1, 1, 1, 0, 1, 1, 0, 0, 1, 0, 1, 1, 1, 1, 1, 1, 0, 1, 0, 1, 0, 0, 1, 1, 1, 0, 0, 1, 0, 1, 1, 0, 0, 1, 0, 1, 1, 1, 1, 1, 0, 1, 0, 1, 1, 1, 0, 0, 0, 0, 1, 0, 1, 0, 1, 1, 0, 0, 1, 0, 0, 1, 1, 1, 0, 0, 0, 1, 1, 1, 1, 1, 1, 1, 1, 1, 1, 1, 1, 0, 0, 0, 1, 1, 0, 0, 1, 0, 0, 0, 1, 0, 1, 0, 1, 0, 1, 0, 0, 1, 1, 0, 1, 1, 0, 0, 1, 0, 1, 1, 0, 0, 1, 0, 1, 0, 1, 1, 0, 0, 0, 0, 0, 1, 1, 1, 1, 1, 0, 0, 1, 1, 0, 0, 0, 0, 1, 0, 0, 1, 0, 0, 1, 1, 1, 1, 1, 1, 1, 1, 1, 0, 0, 0, 1, 1, 1, 0, 1, 1, 0, 0, 0, 1, 1, 0, 1, 1, 1, 1, 0, 0, 1, 0, 1, 1, 1, 0, 0, 1, 0, 0, 1, 0, 0, 0, 1, 0, 1, 1, 1, 0, 1, 0, 0, 1, 1, 1, 1, 1, 1, 0, 0, 0, 1, 0, 1, 1, 0, 1, 1, 0, 0, 0, 1, 1, 1, 1, 0, 1, 1, 1, 1, 1, 0, 0, 0, 1, 1, 1, 0, 0, 1, 0, 0, 0, 0, 1, 1, 1, 1, 1, 1, 1, 0, 1, 1, 0, 0, 0, 0, 1, 1, 0, 1, 0, 1, 0, 1, 0, 1, 1, 1, 1, 1, 0, 1, 0, 0, 0, 0, 1, 0, 0, 1, 0, 0, 0, 1, 1, 0, 1, 0, 0, 1, 0, 0, 1, 1, 1, 1, 0, 1, 1, 0, 0, 1, 1, 1, 1, 0, 1, 1, 0, 1, 1, 1, 1, 0, 1, 1, 1, 0, 0, 0, 1, 0, 1, 1, 0, 1, 0, 0, 0, 1, 1, 0, 0, 0, 0, 0, 1, 1, 1, 0, 0, 0, 1, 1, 0, 1, 1, 1, 0, 1, 1, 1, 0, 1, 1, 0, 1, 1, 0, 0, 0, 1, 1, 1, 1, 1, 1, 1, 0, 0, 1, 1, 1, 1, 1, 1, 1, 0, 1, 1, 1, 1, 1, 1, 0, 0, 1, 1, 0, 1, 0, 1, 1, 0, 0, 0, 0, 0, 0, 0, 1, 0, 1, 0, 0, 0, 0, 0, 1, 0, 1, 1, 0, 0, 0, 1, 1, 0, 0, 0, 0, 0, 0, 1, 0, 1, 0, 1, 1, 1, 1, 1, 1, 0, 1, 1, 1, 1, 1, 0, 1, 0, 1, 1, 0, 1, 1, 0, 0, 0, 0, 1, 1, 1, 0, 1, 0, 1, 1, 0, 1, 1, 1, 0, 0, 1, 1, 1, 0, 0, 1, 1, 0, 1, 1, 1, 1, 0, 1, 0, 1, 0, 1, 1, 0, 0, 0, 1, 1, 0, 1, 1, 1, 0, 0, 1, 0, 0, 1, 1, 0, 1, 0, 1, 1, 1, 1, 0, 0, 0, 0, 0, 0, 0, 1, 0, 1, 1, 0, 1, 0, 0, 0, 0, 0, 1, 0, 1, 0, 1, 1, 1, 0, 0, 1, 0, 0, 0, 1, 0, 0, 0, 1, 1, 0, 1, 0, 1, 1, 0, 1, 0, 0, 1, 0, 1, 0, 0, 0, 0, 1, 1, 0, 0, 0, 1, 1, 1, 0, 1, 0, 0, 0, 1, 0, 0, 0, 0, 1, 1, 1, 1, 1, 0, 1, 1, 0, 0, 1, 1, 1, 0, 1, 1, 1, 1, 0, 0, 1, 1, 0, 1, 1, 1, 1, 0, 0, 1, 1, 1, 0, 1, 1, 0, 0, 0, 1, 0, 0, 1, 1, 1, 1, 1, 0, 1, 0, 1, 0, 0, 0, 0, 0, 1, 0, 1, 1, 0, 1, 1, 1, 1, 0, 1, 1, 1, 1, 1, 1, 0, 0, 0, 1, 1, 1, 1, 1, 0, 1, 1, 1, 0, 1, 1, 0, 0, 0, 1, 0, 1, 0, 0, 0, 1, 1, 1, 0, 0, 1, 0, 1, 0, 0, 1, 1, 1, 1, 0, 0, 0, 1, 1, 1, 0, 1, 0, 1, 1, 1, 0, 1, 0, 0, 1, 1, 1, 0, 0, 1, 0, 0, 1, 1, 1, 1, 1, 1, 1, 1, 1, 1, 1, 1, 1, 0, 1, 0, 0, 0, 0, 0, 1, 1, 0, 1, 0, 1, 0, 0, 0, 0, 1, 0, 1, 1, 1, 0, 0, 1, 0, 1, 0, 1, 0, 1, 0, 1, 0, 1, 0, 0, 0, 1, 1, 1, 1, 0, 0, 0, 0, 1, 1, 1, 0, 1, 0, 1, 1, 0, 0, 0, 0, 1, 1, 1, 1, 0, 1, 1, 0, 1, 0, 0, 1, 0, 1, 1, 0, 1, 0, 1, 0, 1, 1, 1, 0, 1, 0, 1, 0, 1, 0, 1, 0, 0, 1, 1, 1, 1, 1, 1, 0, 0, 1, 0, 0, 1, 0, 0, 0, 1, 0, 1, 1, 1, 1, 0, 0, 1, 0, 0, 0, 1, 1, 1, 1, 1, 0, 0, 0, 1, 0, 1, 0, 0, 0, 0, 1, 1, 0, 1, 1, 1, 0, 0, 1, 1, 0, 0, 0, 0, 1, 1, 0, 1, 1, 1, 1, 0, 1, 1, 1, 1, 0, 1, 0, 1, 1, 1, 0, 0, 0, 1, 1, 1, 0, 1, 1, 1, 0, 1, 0, 1, 1, 1, 0, 1, 1, 1, 1, 1, 1, 1, 1, 0, 0, 0, 0, 1, 1, 1, 1, 1, 0, 0, 0, 0, 1, 0, 0, 0, 0, 1, 1, 1, 1, 0, 0, 1, 0, 0, 1, 1, 1, 0, 0, 0, 0, 0, 1, 0, 0, 1, 0, 1, 1, 0, 1, 1, 1, 0, 0, 1, 0, 1, 1, 1, 1, 1, 1, 1, 0, 0, 1, 1, 0, 1, 0, 1, 0, 1, 0, 1, 1, 0, 1, 0, 0, 1, 0, 1, 0, 0, 0, 0, 1, 1, 1, 1, 0, 0, 0, 0, 0, 0, 1, 1, 0, 0, 1, 0, 0, 0, 0, 1, 0, 0, 1, 1, 1, 1, 0, 0, 1, 0, 0, 1, 0, 1, 0, 1, 0, 0, 1, 0, 1, 1, 1, 0, 1, 1, 1, 0, 0, 1, 1, 1, 0, 0, 0, 0, 1, 0, 1, 0, 0, 1, 0, 1, 0, 0, 0, 1, 1, 1, 1, 1, 1, 1, 0, 1, 0, 0, 1, 0, 0, 1, 1, 1, 0, 1, 1, 0, 1, 1, 1, 0, 0, 1, 0, 1, 1, 1, 0, 1, 1, 0, 0, 0, 1, 0, 1, 0, 0, 1, 1, 1, 1, 0, 1, 1, 1, 1, 0, 0, 1, 0, 1, 1, 0, 0, 1, 0, 1, 0, 1, 0, 1, 1, 0, 1, 0, 1, 0, 0, 0, 1, 1, 1, 0, 0, 1, 1, 1, 1, 1, 0, 0, 1, 1, 1, 0, 1, 0, 0, 1, 1, 1, 1, 1, 0, 1, 1, 1, 0, 0, 1, 0, 1, 0, 1, 0, 0, 0, 0, 1, 1, 0, 1, 0, 0, 1, 1, 1, 0, 0, 0, 0, 0, 0, 0, 1, 1, 1, 0, 1, 1, 1, 0, 1, 0, 1, 1, 1, 1, 0, 1, 0, 1, 1, 0, 0, 1, 0, 0, 1, 1, 0, 0, 1, 1, 0, 1, 1, 0, 0, 0, 1, 0, 1, 0, 1, 1, 0, 1, 1, 0, 0, 0, 0, 0, 1, 0, 1, 0, 0, 0, 1, 1, 0, 0, 0, 1, 1, 0, 0, 0, 0, 0, 1, 0, 1, 0, 0, 0, 1, 1, 1, 0, 0, 0, 0, 0, 0, 1, 0, 1, 1, 0, 0, 1, 0, 1, 1, 1, 0, 1, 0, 0, 1, 1, 1, 1, 1, 0, 1, 1, 1, 1, 1, 0, 1, 0, 0, 0, 1, 1, 1, 0, 0, 1, 0, 0, 0, 1, 0, 0, 0, 1, 0, 0, 0, 1, 0, 0, 1, 1, 1, 0, 1, 0, 1, 0, 0, 0, 1, 1, 1, 1, 1, 1, 0, 1, 0, 1, 1, 1, 1, 1, 1, 1, 0, 1, 1, 0, 1, 1, 1, 1, 0, 1, 1, 1, 1, 0, 1, 0, 0, 0, 1, 1, 0, 1, 0, 1, 0, 0, 1, 1, 0, 1, 1, 0, 1, 1, 0, 0, 1, 0, 0, 0, 1, 0, 0, 0, 0, 0, 0, 0, 0, 0, 1, 1, 1, 0, 1, 1, 1, 1, 1, 0, 0, 1, 1, 1, 0, 1, 1, 1, 0, 1, 1, 0, 0, 0, 1, 1, 1, 1, 0, 0, 0, 0, 1, 1, 1, 1, 1, 1, 1, 1, 0, 1, 0, 0, 1, 0, 0, 0, 0, 1, 0, 1, 0, 0, 0, 1, 0, 0, 1, 0, 0, 1, 1, 1, 0, 0, 1, 0, 1, 0, 0, 1, 0, 0, 1, 1, 0, 1, 1, 1, 1, 0, 1, 0, 0, 1, 0, 1, 1, 0, 0, 1, 0, 1, 1, 1, 1, 0, 0, 1, 0, 1, 0, 1, 1, 0, 1, 1, 1, 1, 1, 1, 0, 0, 0, 0, 0, 1, 1, 1, 1, 0, 1, 1, 1, 1, 1, 1, 0, 0, 1, 1, 1, 1, 1, 0, 1, 0, 1, 1, 0, 1, 1, 1, 1, 1, 1, 1, 1, 0, 1, 0, 0, 1, 0, 0, 1, 1, 0, 1, 0, 1, 0, 1, 0, 0, 0, 0, 0, 0, 1, 1, 1, 0, 1, 0, 1, 1, 1, 0, 0, 0, 1, 1, 1, 1, 1, 0, 1, 1, 0, 0, 1, 1, 0, 0, 0, 0, 1, 1, 1, 1, 0, 1, 1, 1, 0, 1, 0, 1, 1, 0, 1, 0, 0, 0, 0, 0, 1, 1, 1, 1, 0, 0, 1, 0, 1, 0, 0, 0, 1, 1, 1, 0, 0, 0, 0, 1, 1, 0, 1, 0, 0, 0, 1, 0, 1, 0, 0, 1, 0, 0, 1, 1, 0, 0, 1, 1, 0, 0, 1, 1, 1, 0, 1, 0, 1, 1, 0, 1, 1, 1, 1, 1, 1, 0, 1, 1, 0, 0, 1, 1, 0, 1, 0, 1, 1, 0, 0, 0, 0, 1, 1, 1, 1, 1, 1, 1, 0, 1, 1, 0, 0, 1, 1, 1, 0, 1, 0, 1, 0, 1, 0, 0, 1, 1, 1, 0, 1, 0, 1, 1, 1, 1, 1, 1, 1, 1, 1, 1, 0, 0, 0, 0, 1, 1, 1, 0, 0, 1, 1, 1, 1, 0, 1, 0, 0, 0, 1, 1, 1, 0, 0, 1, 0, 1, 1, 0, 1, 0, 0, 0, 0, 1, 0, 0, 1, 0, 1, 1, 0, 0, 0, 0, 1, 1, 0, 0, 0, 0, 1, 1, 0, 1, 0, 1, 0, 1, 1, 0, 1, 1, 0, 0, 0, 1, 1, 0, 1, 1, 1, 0, 0, 1, 0, 1, 0, 1, 0, 1, 1, 1, 1, 0, 1, 0, 1, 1, 0, 0, 1, 1, 1, 1, 0, 1, 0, 1, 0, 0, 1, 1, 1, 1, 1, 1, 1, 0, 0, 1, 1, 1, 1, 0, 0, 0, 0, 1, 1, 0, 1, 0, 1, 1, 1, 0, 1, 1, 1, 1, 1, 1, 1, 1, 1, 1, 1, 0, 1, 1, 1, 0, 1, 0, 1, 0, 0, 1, 1, 0, 1, 0, 1, 0, 0, 0, 1, 0, 1, 0, 1, 1, 1, 0, 1, 0, 0, 1, 0, 0, 0, 0, 1, 1, 1, 1, 1, 1, 1, 1, 0, 0, 1, 0, 0, 1, 1, 0, 1, 1, 1, 0, 0, 0, 1, 0, 0, 1, 1, 0, 1, 0, 0, 1, 1, 0, 0, 0, 0, 1, 0, 0, 1, 0, 0, 1, 1, 0, 0, 1, 1, 0, 1, 0, 1, 0, 1, 0, 0, 1, 1, 1, 0, 1, 0, 0, 0, 0, 1, 1, 1, 1, 0, 0, 1, 0, 1, 1, 1, 1, 0, 0, 0, 0, 0, 0, 1, 1, 0, 1, 0, 0, 0, 1, 0, 0, 1, 0, 1, 0, 0, 1, 0, 0, 0, 0, 1, 1, 1, 0, 0, 0, 0, 0, 1, 1, 0, 0, 1, 1, 1, 0, 1, 1, 0, 0, 0, 1, 1, 1, 0, 1, 0, 1, 0, 1, 0, 0, 0, 0, 1, 1, 0, 1, 1, 1, 1, 1, 0, 1, 1, 1, 0, 0, 0, 0, 0, 1, 0, 1, 1, 1, 0, 0, 1, 1, 1, 0, 1, 1, 1, 1, 1, 0, 0, 1, 1, 0, 0, 1, 1, 0, 1, 1, 1, 1, 0, 1, 1, 1, 0, 1, 0, 0, 1, 1, 0, 0, 1, 1, 0, 0, 1, 0, 1, 0, 1, 1, 1, 1, 1, 1, 0, 1, 0, 0, 1, 0, 0, 1, 1, 1, 0, 1, 0, 1, 0, 0, 0, 1, 0, 0, 0, 1, 1, 1, 0, 0, 0, 0, 1, 1, 1, 1, 1, 0, 1, 1, 0, 1, 0, 1, 1, 1, 1, 1, 1, 1, 0, 1, 1, 0, 1, 1, 0, 0, 1, 0, 1, 0, 0, 1, 0, 1, 0, 1, 1, 1, 1, 1, 1, 1, 0, 1, 1, 0, 0, 1, 0, 0, 1, 1, 0, 0, 1, 0, 1, 1, 1, 1, 0, 0, 1, 0, 0, 0, 0, 1, 1, 0, 0, 0, 1, 0, 1, 1, 1, 0, 0, 1, 1, 1, 1, 1, 0, 1, 0, 1, 0, 1, 1, 0, 0, 0, 1, 1, 1, 1, 0, 1, 0, 1, 0, 0, 1, 0, 0, 1, 1, 0, 1, 1, 0, 1, 1, 0, 0, 1, 1, 0, 1, 1, 1, 0, 0, 0, 0, 0, 0, 0, 0, 0, 1, 0, 0, 0, 0, 0, 1, 1, 0, 1, 0, 0, 1, 1, 0, 1, 0, 1, 1, 0, 0, 0, 1, 1, 1, 1, 0, 0, 0, 1, 0, 0, 0, 1, 1, 1, 0, 1, 0, 0, 1, 1, 0, 1, 1, 1, 1, 0, 1, 1, 0, 1, 1, 1, 0, 0, 0, 1, 0, 0, 1, 0, 1, 1, 1, 0, 1, 0, 0, 1, 0, 0, 1, 1, 0, 0, 0, 1, 1, 1, 1, 1, 0, 1, 0, 0, 1, 1, 1, 0, 0, 1, 0, 1, 1, 1, 0, 0, 1, 0, 1, 0, 0, 1, 1, 1, 1, 1, 1, 0, 0, 0, 0, 1, 1, 0, 0, 1, 1, 1, 0, 0, 0, 0, 1, 1, 1, 0, 1, 1, 0, 0, 1, 1, 0, 0, 1, 1, 1, 1, 1, 1, 0, 1, 1, 1, 0, 1, 1, 1, 1, 1, 1, 0, 0, 0, 1, 1, 0, 0, 0, 1, 1, 1, 0, 0, 0, 1, 0, 1, 1, 1, 1, 0, 0, 1, 0, 1, 1, 1, 1, 0, 1, 1, 1, 0, 1, 0, 1, 1, 1, 1, 1, 1, 0, 1, 0, 1, 0, 1, 0, 0, 0, 0, 1, 0, 0, 1, 1, 1, 0, 0, 1, 1, 0, 0, 0, 0, 1, 0, 0, 1, 0, 0, 0, 1, 1, 0, 0, 1, 1, 0, 1, 0, 1, 1, 1, 1, 0, 1, 0, 0, 1, 1, 1, 0, 1, 0, 0, 0, 0, 0, 1, 1, 1, 0, 1, 0, 1, 1, 1, 0, 1, 1, 0, 1, 1, 1, 0, 0, 0, 1, 1, 0, 0, 0, 1, 1, 0, 0, 1, 0, 1, 1, 0, 1, 0, 1, 0, 0, 1, 0, 0, 0, 0, 1, 1, 1, 0, 0, 0, 1, 0, 1, 1, 1, 0, 0, 0, 0, 0, 0, 0, 1, 1, 0, 0, 1, 0, 1, 1, 0, 0, 1, 1, 0, 1, 1, 0, 1, 0, 0, 0, 1, 1, 1, 0, 0, 0, 1, 1, 1, 1, 1, 1, 0, 1, 1, 1, 1, 0, 1, 1, 0, 0, 1, 0, 0, 1, 0, 1, 0, 0, 0, 0, 1, 1, 1, 0, 0, 0, 1, 1, 1, 1, 1, 0, 1, 1, 0, 1, 1, 0, 0, 0, 0, 0, 1, 1, 1, 0, 1, 1, 0, 1, 0, 1, 0, 1, 0, 1, 1, 1, 0, 0, 1, 0, 0, 1, 0, 1, 1, 1, 1, 0, 0, 0, 0, 0, 1, 0, 0, 0, 0, 1, 0, 1, 0, 0, 1, 0, 0, 0, 1, 1, 0, 0, 1, 0, 0, 1, 0, 0, 0, 1, 0, 0, 0, 0, 1, 1, 1, 1, 0, 0, 0, 0, 0, 1, 0, 0, 1, 1, 1, 0, 1, 0, 1, 1, 1, 0, 0, 0, 1, 1, 0, 0, 1, 1, 1, 0, 1, 0, 1, 1, 1, 1, 1, 0, 1, 0, 0, 0, 1, 1, 1, 0, 0, 1, 0, 1, 0, 1, 1, 1, 0, 1, 0, 0, 1, 0, 1, 1, 1, 1, 1, 0, 0, 0, 0, 0, 0, 0, 1, 1, 1, 0, 1, 1, 0, 1, 1, 1, 1, 0, 0, 1, 0, 0, 1, 0, 1, 1, 0, 0, 1, 0, 1, 0, 0, 1, 1, 1, 1, 1, 1, 1, 0, 1, 1, 1, 1, 0, 1, 1, 1, 0, 0, 0, 0, 0, 0, 1, 1, 0, 1, 1, 0, 0, 0, 1, 0, 0, 1, 0, 0, 1, 0, 1, 0, 1, 0, 0, 1, 0, 1, 1, 0, 1, 1, 0, 0, 0, 1, 0, 1, 1, 0, 1, 1, 1, 0, 0, 1, 0, 1, 1, 0, 1, 0, 1, 1, 1, 0, 1, 0, 0, 0, 0, 1, 0, 0, 0, 0, 0, 1, 0, 1, 0, 1, 0, 1, 0, 0, 0, 1, 0, 1, 0, 1, 0, 1, 0, 0, 1, 1, 0, 1, 1, 1, 1, 0, 0, 0, 1, 0, 1, 1, 1, 1, 1, 1, 0, 1, 0, 1, 0, 1, 1, 0, 1, 1, 1, 1, 0, 0, 0, 1, 1, 1, 1, 1, 0, 0, 1, 1, 1, 0, 1, 0, 1, 1, 0, 0, 1, 1, 0, 0, 1, 1, 1, 1, 1, 1, 1, 1, 1, 1, 1, 1, 1, 1, 1, 0, 1, 0, 0, 0, 0, 1, 0, 1, 0, 0, 0, 0, 0, 0, 0, 1, 0, 0, 0, 0, 1, 0, 1, 1, 0, 0, 0, 1, 0, 0, 1, 0, 1, 1, 0, 1, 1, 0, 0, 1, 1, 0, 0, 1, 0, 0, 0, 1, 0, 0, 1, 1, 0, 0, 1, 1, 1, 0, 1, 1, 1, 0, 1, 0, 1, 0, 1, 0, 1, 1, 1, 0, 1, 1, 1, 0, 0, 0, 0, 1, 0, 1, 0, 1, 0, 0, 1, 0, 0, 0, 1, 0, 0, 0, 1, 1, 1, 1, 1, 1, 1, 1, 0, 0, 1, 0, 1, 1, 0, 0, 0, 0, 1, 1, 1, 1, 0, 1, 1, 1, 1, 1, 0, 1, 0, 1, 0, 0, 0, 0, 0, 1, 1, 1, 1, 1, 1, 1, 0, 1, 0, 1, 1, 0, 1, 1, 0, 1, 0, 1, 0, 1, 0, 1, 1, 1, 1, 1, 0, 0, 1, 1, 1, 0, 0, 1, 0, 0, 0, 0, 1, 1, 0, 0, 0, 0, 1, 1, 1, 0, 0, 1, 0, 0, 0, 0, 0, 0, 1, 1, 0, 0, 1, 0, 0, 0, 0, 0, 0, 1, 0, 1, 1, 0, 1, 1, 1, 1, 0, 1, 1, 1, 0, 0, 0, 1, 0, 0, 0, 0, 1, 0, 1, 1, 1, 1, 0, 1, 0, 1, 1, 1, 0, 1, 1, 1, 0, 1, 0, 1, 1, 0, 1, 0, 1, 0, 0, 1, 1, 1, 0, 0, 0, 1, 0, 0, 0, 1, 1, 1, 1, 0, 1, 0, 0, 1, 1, 1, 1, 1, 0, 1, 0, 1, 0, 0, 1, 0, 0, 0, 0, 0, 1, 1, 0, 0, 1, 0, 1, 1, 1, 1, 0, 1, 0, 0, 0, 0, 1, 0, 0, 0, 0, 1, 1, 1, 1, 0, 1, 0, 1, 1, 1, 0, 0, 1, 1, 1, 1, 0, 1, 1, 1, 1, 1, 1, 0, 1, 0, 1, 1, 1, 1, 0, 0, 0, 1, 0, 0, 1, 1, 0, 1, 1, 0, 1, 0, 0, 0, 1, 0, 1, 1, 1, 0, 1, 0, 0, 1, 1, 0, 1, 1, 0, 1, 0, 1, 0, 0, 0, 1, 0, 0, 0, 1, 0, 0, 1, 0, 0, 1, 1, 1, 1, 1, 0, 0, 1, 0, 0, 1, 0, 0, 0, 0, 1, 0, 0, 0, 0, 1, 1, 1, 0, 0, 1, 1, 1, 0, 1, 1, 1, 1, 1, 1, 0, 1, 1, 0, 1, 1, 0, 1, 1, 1, 1, 1, 0, 0, 0, 1, 1, 1, 1, 0, 1, 0, 1, 0, 0, 1, 0, 0, 0, 1, 1, 1, 0, 0, 0, 0, 1, 1, 1, 1, 1, 0, 1, 1, 1, 1, 0, 0, 0, 1, 0, 1, 1, 0, 1, 1, 0, 1, 1, 1, 0, 0, 0, 0, 1, 1, 0, 1, 0, 1, 1, 1, 1, 1, 0, 0, 0, 1, 1, 0, 1, 0, 0, 0, 0, 0, 0, 0, 0, 0, 0, 0, 0, 1, 1, 1, 1, 1, 1, 0, 1, 0, 1, 1, 1, 0, 0, 1, 0, 1, 0, 1, 1, 1, 0, 0, 0, 1, 0, 1, 1, 0, 0, 0, 0, 1, 0, 0, 0, 0, 1, 0, 0, 1, 0, 0, 0, 0, 0, 1, 1, 1, 0, 1, 1, 1, 0, 0, 1, 0, 1, 1, 1, 1, 1, 1, 1, 1, 0, 1, 1, 1, 1, 0, 0, 1, 0, 0, 0, 1, 0, 0, 0, 0, 1, 1, 1, 1, 1, 1, 0, 0, 0, 1, 1, 0, 1, 0, 0, 0, 1, 1, 0, 0, 0, 0, 1, 1, 1, 1, 1, 0, 0, 1, 0, 0, 1, 1, 1, 1, 1, 1, 1, 1, 1, 0, 1, 1, 0, 1, 0, 0, 1, 1, 1, 0, 1, 1, 1, 1, 1, 0, 1, 1, 0, 1, 0, 0, 0, 1, 0, 1, 1, 0, 0, 1, 1, 0, 1, 1, 1, 1, 1, 1, 1, 1, 0, 0, 0, 1, 0, 1, 0, 1, 0, 0, 1, 1, 0, 0, 1, 0, 1, 0, 1, 1, 0, 1, 0, 1, 1, 0, 0, 1, 1, 1, 1, 1, 0, 0, 1, 0, 1, 0, 1, 0, 1, 1, 0, 0, 1, 1, 1, 0, 1, 1, 1, 1, 1, 0, 1, 0, 1, 1, 1, 0, 1, 1, 1, 1, 1, 0, 0, 0, 0, 0, 1, 0, 0, 1, 1, 1, 0, 0, 1, 1, 0, 1, 1, 0, 0, 1, 1, 1, 1, 0, 1, 0, 0, 0, 1, 1, 0, 1, 0, 1, 0, 0, 0, 1, 0, 0, 1, 1, 0, 1, 0, 1, 1, 0, 0, 1, 1, 0, 0, 1, 0, 1, 1, 1, 1, 1, 1, 1, 0, 1, 1, 1, 0, 1, 1, 0, 0, 0, 0, 0, 0, 1, 0, 0, 0, 1, 1, 1, 1, 0, 1, 1, 1, 1, 1, 1, 0, 1, 0, 0, 1, 1, 1, 0, 1, 1, 1, 0, 1, 1, 1, 1, 1, 1, 1, 0, 0, 0, 0, 1, 0, 0, 1, 0, 0, 1, 1, 0, 1, 1, 1, 0, 1, 0, 0, 0, 1, 0, 1, 1, 0, 1, 1, 1, 1, 0, 1, 1, 0, 1, 1, 0, 1, 1, 1, 0, 1, 0, 0, 1, 1, 1, 1, 1, 1, 0, 0, 1, 0, 0, 0, 0, 1, 0, 1, 0, 0, 0, 0, 1, 0, 0, 0, 0, 1, 0, 0, 1, 0, 1, 1, 1, 1, 1, 1, 0, 0, 1, 0, 1, 0, 1, 0, 0, 1, 0, 1, 0, 1, 1, 0, 1, 1, 0, 0, 1, 1, 1, 0, 0, 0, 0, 0, 0, 0, 0, 0, 1, 0, 0, 0, 1, 0, 0, 1, 1, 1, 0, 1, 0, 1, 0, 0, 1, 0, 0, 1, 1, 1, 0, 0, 1, 1, 1, 1, 1, 0, 0, 1, 1, 0, 0, 1, 1, 1, 0, 1, 1, 0, 0, 0, 1, 0, 1, 0, 0, 1, 0, 0, 0, 0, 1, 1, 1, 0, 0, 1, 0, 1, 0, 1, 1, 1, 0, 1, 1, 1, 1, 0, 1, 1, 1, 1, 1, 1, 1, 0, 0, 1, 1, 1, 0, 1, 1, 1, 1, 1, 1, 1, 1, 1, 1, 1, 1, 1, 0, 0, 1, 1, 0, 1, 1, 0, 1, 0, 1, 1, 1, 1, 0, 1, 0, 0, 1, 1, 1, 0, 1, 1, 0, 1, 0, 1, 1, 0, 0, 1, 0, 1, 0, 1, 1, 1, 1, 1, 1, 0, 1, 0, 1, 1, 0, 1, 1, 1, 1, 1, 1, 1, 1, 0, 0, 0, 0, 1, 0, 1, 1, 1, 0, 0, 1, 0, 1, 1, 0, 1, 1, 1, 0, 1, 0, 1, 0, 0, 1, 1, 1, 1, 0, 0, 0, 0, 0, 0, 1, 0, 1, 1, 1, 0, 1, 0, 1, 1, 1, 0, 1, 0, 0, 0, 1, 0, 0, 1, 0, 1, 1, 1, 0, 1, 0, 1, 1, 0, 1, 1, 0, 0, 0, 1, 1, 0, 0, 0, 1, 0, 0, 1, 1, 1, 0, 1, 1, 1, 1, 1, 0, 1, 1, 1, 0, 1, 0, 1, 0, 0, 0, 1, 0, 1, 0, 1, 1, 1, 1, 1, 1, 0, 1, 1, 1, 1, 1, 1, 0, 1, 0, 0, 0, 1, 0, 1, 1, 0, 1, 0, 1, 1, 1, 0, 0, 1, 1, 1, 1, 0, 0, 1, 1, 1, 0, 0, 1, 0, 1, 1, 0, 1, 0, 1, 1, 0, 0, 0, 1, 0, 0, 1, 1, 1, 1, 0, 1, 1, 0, 0, 1, 0, 1, 0, 1, 0, 1, 0, 0, 0, 1, 0, 1, 0, 0, 0, 1, 0, 1, 0, 0, 1, 0, 1, 1, 1, 1, 0, 1, 1, 1, 0, 1, 1, 1, 1, 1, 1, 0, 1, 0, 0, 1, 0, 1, 1, 1, 0, 1, 0, 1, 1, 1, 1, 0, 0, 0, 0, 0, 0, 0, 1, 1, 0, 0, 0, 0, 1, 0, 1, 1, 0, 0, 0, 0, 0, 1, 0, 0, 0, 0, 1, 0, 0, 0, 1, 1, 1, 0, 0, 0, 0, 1, 0, 0, 1, 1, 0, 1, 0, 0, 1, 1, 0, 0, 0, 1, 0, 1, 1, 0, 1, 1, 1, 1, 1, 0, 1, 0, 0, 0, 0, 0, 0, 1, 1, 0, 0, 0, 1, 0, 0, 1, 0, 0, 0, 0, 1, 1, 1, 1, 1, 1, 1, 0, 1, 1, 1, 1, 1, 0, 0, 0, 1, 1, 1, 0, 0, 1, 0, 1, 0, 1, 1, 0, 0, 0, 1, 0, 1, 1, 1, 0, 1, 1, 1, 0, 1, 0, 0, 0, 0, 0, 0, 0, 0, 0, 0, 0, 0, 1, 1, 1, 0, 0, 0, 0, 0, 1, 0, 0, 0, 1, 0, 1, 1, 0, 1, 0, 1, 0, 0, 0, 1, 1, 0, 0, 1, 1, 0, 1, 1, 0, 0, 1, 1, 1, 0, 1, 1, 0, 1, 0, 0, 1, 0, 1, 1, 0, 1, 1, 1, 0, 1, 1, 0, 1, 0, 0, 0, 0, 1, 0, 0, 0, 1, 1, 0, 0, 1, 0, 0, 1, 0, 1, 1, 0, 0, 0, 1, 1, 0, 0, 0, 0, 0, 1, 1, 1, 1, 1, 1, 0, 1, 1, 0, 1, 0, 0, 1, 0, 0, 0, 0, 1, 0, 0, 0, 1, 0, 0, 1, 1, 0, 1, 1, 0, 1, 0, 0, 0, 0, 0, 0, 0, 1, 1, 1, 1, 1, 1, 1, 0, 0, 1, 1, 1, 1, 0, 0, 0, 1, 0, 0, 1, 0, 1, 1, 1, 0, 1, 1, 1, 1, 0, 1, 1, 1, 1, 1, 0, 0, 0, 1, 1, 0, 1, 0, 0, 0, 1, 0, 0, 0, 0, 1, 1, 0, 0, 1, 1, 0, 0, 0, 0, 0, 1, 1, 1, 0, 1, 1, 1, 0, 1, 0, 1, 1, 1, 0, 1, 1, 0, 0, 0, 1, 1, 1, 1, 1, 1, 1, 1, 0, 0, 1, 0, 1, 0, 1, 1, 0, 1, 1, 1, 1, 0, 0, 0, 0, 1, 0, 1, 0, 0, 0, 0, 1, 0, 1, 0, 0, 1, 0, 1, 1, 1, 1, 1, 0, 1, 1, 1, 0, 1, 0, 0, 0, 1, 1, 1, 1, 1, 1, 0, 0, 0, 1, 1, 1, 0, 0, 1, 1, 1, 1, 1, 0, 0, 1, 0, 0, 1, 0, 1, 1, 1, 0, 1, 0, 0, 0, 1, 1, 1, 0, 0, 1, 0, 1, 1, 1, 1, 1, 0, 1, 0, 0, 1, 1, 1, 1, 1, 0, 1, 0, 1, 0, 1, 0, 0, 0, 1, 1, 1, 0, 1, 1, 1, 1, 1, 0, 1, 1, 1, 0, 1, 1, 1, 0, 0, 0, 0, 1, 0, 0, 0, 1, 1, 1, 0, 0, 1, 1, 1, 1, 0, 0, 0, 0, 1, 0, 1, 0, 1, 1, 0, 1, 0, 0, 0, 1, 0, 1, 0, 1, 0, 1, 1, 0, 0, 1, 1, 0, 0, 1, 1, 1, 0, 0, 1, 0, 0, 0, 0, 0, 1, 1, 1, 0, 1, 1, 0, 1, 1, 0, 1, 0, 0, 1, 0, 1, 1, 1, 0, 0, 1, 0, 0, 0, 1, 0, 1, 1, 0, 0, 0, 1, 0, 0, 0, 1, 0, 0, 1, 0, 0, 1, 1, 1, 1, 0, 0, 1, 0, 0, 1, 1, 1, 1, 0, 1, 1, 1, 0, 1, 1, 0, 1, 0, 0, 0, 1, 0, 1, 1, 1, 0, 0, 1, 1, 0, 0, 0, 1, 0, 1, 0, 1, 0, 0, 0, 1, 1, 1, 0, 0, 0, 0, 0, 0, 1, 1, 0, 0, 1, 0, 0, 1, 1, 1, 1, 0, 0, 1, 0, 0, 1, 0, 1, 1, 1, 1, 1, 0, 1, 1, 1, 1, 0, 1, 1, 1, 1, 1, 0, 0, 0, 1, 0, 0, 1, 1, 0, 0, 0, 1, 1, 1, 1, 0, 1, 1, 0, 0, 1, 1, 1, 0, 0, 1, 1, 1, 1, 0, 0, 1, 1, 0, 1, 1, 0, 1, 1, 1, 0, 1, 0, 0, 1, 1, 1, 0, 0, 0, 0, 1, 0, 0, 1, 1, 0, 0, 1, 0, 0, 0, 0, 0, 0, 1, 1, 0, 1, 0, 0, 1, 1, 1, 1, 1, 1, 0, 0, 0, 0, 1, 0, 1, 1, 1, 1, 1, 1, 0, 0, 1, 1, 0, 0, 0, 1, 1, 0, 1, 0, 0, 1, 0, 0, 0, 1, 0, 0, 1, 1, 1, 1, 0, 1, 1, 1, 1, 1, 0, 0, 1, 0, 0, 0, 1, 1, 1, 0, 0, 1, 1, 1, 1, 0, 0, 0, 0, 0, 0, 1, 0, 0, 1, 1, 1, 1, 1, 1, 0, 1, 1, 0, 0, 1, 0, 0, 1, 0, 1, 0, 1, 1, 1, 0, 1, 1, 1, 1, 1, 0, 0, 1, 1, 1, 0, 0, 1, 1, 1, 1, 0, 1, 0, 0, 0, 0, 1, 1, 0, 0, 0, 1, 1, 0, 1, 0, 1, 1, 0, 1, 1, 1, 1, 1, 0, 0, 1, 0, 0, 0, 1, 1, 0, 1, 0, 0, 1, 1, 0, 1, 1, 0, 1, 1, 1, 1, 0, 1, 1, 0, 0, 1, 0, 0, 1, 0, 1, 1, 0, 1, 1, 1, 0, 0, 0, 1, 0, 0, 0, 1, 1, 0, 1, 1, 1, 0, 1, 1, 0, 0, 1, 0, 1, 1, 0, 1, 0, 1, 1, 1, 1, 1, 0, 0, 0, 1, 0, 1, 1, 0, 0, 1, 1, 0, 1, 0, 0, 0, 1, 0, 1, 0, 0, 1, 1, 1, 0, 1, 0, 1, 1, 1, 0, 0, 1, 1, 0, 1, 0, 1, 0, 0, 1, 0, 0, 1, 0, 1, 0, 1, 0, 0, 1, 1, 1, 0, 0, 0, 1, 0, 0, 1, 1, 1, 1, 1, 0, 0, 1, 1, 1, 0, 1, 1, 0, 1, 1, 0, 0, 0, 0, 0, 0, 0, 1, 1, 0, 1, 0, 0, 0, 0, 0, 0, 0, 0, 1, 0, 0, 1, 1, 0, 1, 1, 0, 0, 1, 1, 0, 0, 0, 1, 0, 0, 1, 0, 1, 1, 1, 0, 1, 1, 0, 1, 1, 1, 1, 1, 1, 0, 1, 0, 1, 1, 0, 0, 0, 0, 1, 1, 0, 1, 1, 0, 0, 0, 0, 1, 1, 0, 1, 1, 1, 1, 1, 1, 1, 0, 1, 0, 1, 0, 0, 0, 1, 0, 0, 1, 0, 1, 1, 1, 1, 1, 1, 1, 0, 0, 1, 0, 0, 0, 0, 0, 1, 1, 0, 1, 1, 0, 0, 0, 0, 0, 0, 1, 1, 1, 1, 0, 0, 1, 0, 1, 0, 1, 1, 0, 1, 0, 1, 0, 1, 0, 1, 1, 0, 0, 1, 1, 0, 0, 1, 1, 0, 1, 1, 1, 1, 1, 1, 1, 1, 0, 0, 1, 0, 1, 0, 0, 1, 0, 0, 0, 1, 1, 0, 0, 0, 0, 1, 0, 1, 0, 1, 1, 1, 1, 1, 1, 1, 1, 1, 1, 1, 1, 1, 0, 1, 1, 0, 0, 0, 1, 0, 0, 0, 0, 0, 1, 0, 1, 1, 0, 0, 0, 1, 0, 1, 0, 0, 1, 0, 1, 1, 0, 1, 1, 1, 1, 1, 1, 0, 1, 1, 0, 1, 1, 0, 0, 1, 0, 0, 0, 1, 1, 1, 1, 1, 0, 1, 0, 1, 1, 0, 1, 1, 0, 0, 0, 1, 0, 1, 1, 0, 0, 1, 0, 0, 1, 1, 1, 1, 1, 1, 1, 0, 0, 1, 1, 1, 0, 0, 1, 0, 1, 1, 0, 0, 0, 0, 0, 1, 0, 1, 1, 0, 0, 1, 0, 0, 1, 1, 1, 0, 1, 0, 1, 0, 0, 0, 1, 0, 0, 0, 0, 0, 1, 1, 0, 1, 1, 0, 1, 1, 0, 0, 0, 0, 1, 1, 0, 1, 1, 1, 1, 0, 0, 0, 0, 1, 1, 0, 1, 1, 0, 1, 0, 0, 1, 0, 1, 0, 0, 1, 0, 1, 1, 1, 0, 1, 1, 0, 1, 0, 1, 0, 0, 0, 1, 1, 0, 1, 1, 1, 1, 1, 1, 0, 0, 1, 0, 0, 0, 0, 1, 0, 1, 0, 0, 0, 0, 0, 1, 0, 1, 1, 1, 1, 0, 0, 0, 1, 1, 1, 1, 1, 0, 1, 0, 0, 0, 0, 0, 0, 0, 0, 1, 0, 1, 1, 1, 1, 1, 0, 0, 1, 0, 0, 1, 1, 1, 1, 0, 0, 0, 1, 1, 0, 0, 0, 1, 1, 1, 1, 1, 0, 0, 0, 1, 1, 0, 0, 0, 1, 0, 0, 0, 1, 1, 1, 1, 1, 1, 1, 0, 1, 1, 0, 1, 0, 0, 0, 0, 1, 1, 0, 0, 1, 1, 1, 0, 1, 0, 1, 0, 0, 0, 1, 1, 1, 0, 0, 1, 1, 1, 0, 0, 0, 1, 1, 1, 1, 0, 0, 0, 0, 0, 1, 1, 1, 1, 0, 0, 1, 1, 0, 0, 1, 0, 1, 0, 1, 0, 1, 1, 0, 1, 1, 1, 0, 1, 1, 1, 1, 1, 0, 1, 0, 0, 1, 1, 1, 1, 0, 0, 1, 1, 0, 1, 0, 0, 1, 1, 1, 1, 0, 1, 1, 0, 0, 1, 0, 0, 0, 0, 1, 0, 1, 1, 1, 1, 1, 1, 1, 0, 0, 1, 1, 0, 1, 0, 1, 0, 1, 0, 1, 0, 0, 1, 0, 1, 1, 0, 1, 1, 0, 0, 0, 1, 0, 0, 0, 1, 0, 0, 0, 0, 0, 1, 1, 1, 1, 0, 1, 0, 1, 0, 1, 0, 1, 0, 0, 1, 0, 1, 1, 1, 0, 0, 0, 0, 0, 1, 0, 0, 1, 1, 0, 0, 1, 1, 1, 0, 1, 1, 0, 0, 0, 0, 1, 1, 0, 0, 1, 0, 0, 1, 1, 0, 1, 0, 1, 1, 1, 1, 0, 0, 1, 1, 1, 1, 1, 1, 0, 1, 1, 1, 0, 0, 1, 0, 0, 1, 0, 1, 1, 1, 1, 1, 1, 0, 0, 1, 1, 0, 0, 1, 1, 1, 1, 1, 0, 1, 0, 0, 0, 1, 0, 0, 0, 0, 1, 0, 0, 1, 1, 0, 0, 1, 0, 0, 0, 1, 0, 0, 0, 0, 0, 0, 1, 1, 1, 0, 0, 0, 0, 1, 1, 1, 0, 0, 0, 0, 1, 1, 1, 0, 1, 1, 0, 1, 0, 1, 0, 1, 1, 1, 1, 1, 0, 0, 1, 0, 1, 0, 1, 1, 1, 1, 0, 0, 0, 1, 1, 1, 0, 0, 1, 1, 1, 0, 0, 0, 0, 1, 1, 1, 0, 1, 0, 0, 0, 1, 1, 1, 0, 1, 0, 0, 0, 1, 0, 1, 1, 1, 1, 0, 0, 1, 0, 0, 1, 1, 1, 0, 1, 0, 0, 0, 0, 1, 1, 1, 1, 1, 1, 1, 1, 1, 0, 1, 0, 0, 0, 1, 0, 0, 1, 0, 0, 1, 0, 1, 0, 0, 1, 0, 1, 0, 0, 1, 1, 1, 0, 0, 1, 1, 1, 0, 1, 1, 1, 0, 0, 0, 0, 0, 0, 1, 1, 0, 1, 0, 0, 0, 1, 0, 0, 1, 1, 1, 0, 1, 0, 1, 0, 0, 0, 1, 0, 1, 1, 1, 1, 1, 0, 1, 0, 0, 1, 0, 1, 0, 0, 0, 1, 0, 1, 0, 0, 0, 0, 1, 1, 1, 1, 0, 1, 0, 1, 0, 0, 1, 0, 1, 1, 1, 1, 1, 1, 1, 0, 1, 1, 0, 1, 0, 1, 1, 0, 0, 0, 1, 1, 0, 1, 1, 0, 1, 0, 1, 1, 1, 0, 0, 1, 1, 1, 1, 1, 1, 0, 0, 0, 0, 1, 0, 0, 1, 0, 0, 0, 1, 1, 0, 0, 0, 0, 0, 1, 0, 1, 0, 1, 0, 1, 0, 1, 1, 0, 1, 0, 0, 1, 1, 0, 0, 0, 1, 0, 0, 0, 1, 0, 1, 0, 1, 0, 0, 0, 0, 0, 1, 0, 0, 1, 1, 0, 1, 1, 0, 0, 1, 0, 0, 1, 0, 0, 1, 1, 1, 1, 0, 0, 1, 1, 0, 0, 0, 0, 1, 1, 0, 0, 0, 0, 1]\n",
            "[0 1 1 ... 0 0 1]\n"
          ]
        }
      ]
    },
    {
      "cell_type": "markdown",
      "source": [
        "##Evaluating Performance\n",
        "First, we will visualize true positives, true negatives, false positives, and false negatives on a confusion matrix. Then, to evaluate performance, we will use three metrics- accuracy, precision, and recall.\n",
        "\n",
        "**1. Accuracy**  \n",
        "Accuracy measures how many of our predictions are correct.\n",
        "- Formula:  \n",
        "$$\n",
        "\\text{Accuracy} = \\frac{TP + TN}{TP + TN + FP + FN}\n",
        "$$  \n",
        "\n",
        "**2. Precision**  \n",
        "Precision measures, out of items classified as positive, how many are true positives?\n",
        "- Formula:  \n",
        "$$\n",
        "\\text{Precision} = \\frac{TP}{TP + FP}\n",
        "$$  \n",
        "\n",
        "**3. Recall (Sensitivity)**  \n",
        "Recall measures, out of all true positives, how many were correctly classified as positive?\n",
        "- Formula:  \n",
        "$$\n",
        "\\text{Recall} = \\frac{TP}{TP + FN}\n",
        "$$  \n"
      ],
      "metadata": {
        "id": "3go7ihxd7Nge"
      }
    },
    {
      "cell_type": "code",
      "source": [
        "#function to get all 3 metrics\n",
        "def metrics(preds,test_lab):\n",
        "  #convert DataFrame to array\n",
        "  true_pos=0\n",
        "  true_neg=0\n",
        "  false_pos=0\n",
        "  false_neg=0\n",
        "  for i in range(len(test_lab)):\n",
        "    if preds[i]==1 and test_lab[i]==1:\n",
        "      true_pos+=1\n",
        "    elif preds[i]==0 and test_lab[i]==1:\n",
        "      false_neg+=1\n",
        "    elif preds[i]==1 and test_lab[i]==0:\n",
        "      false_pos+=1\n",
        "    else:\n",
        "      true_neg+=1\n",
        "  acc=(true_pos+true_neg)/(true_pos+true_neg+false_pos+false_neg)\n",
        "  prec=true_pos/(true_pos+false_pos)\n",
        "  rec=true_pos/(true_pos+false_neg)\n",
        "  return round(acc,2),round(prec,2),round(rec,2)\n",
        "\n",
        "acc,prec,rec = metrics(preds,test_lab)\n",
        "print( f\"Model 1's accuracy: {acc}\")\n",
        "print( f\"Model 1's precision: {prec}\")\n",
        "print( f\"Model 1's recall: {rec}\")\n"
      ],
      "metadata": {
        "colab": {
          "base_uri": "https://localhost:8080/"
        },
        "id": "z4NhrHGn9aF4",
        "outputId": "5e570ea5-3c25-4b95-d23a-b7b70323de5a"
      },
      "execution_count": null,
      "outputs": [
        {
          "output_type": "stream",
          "name": "stdout",
          "text": [
            "Model 1's accuracy: 0.98\n",
            "Model 1's precision: 0.96\n",
            "Model 1's recall: 1.0\n"
          ]
        }
      ]
    },
    {
      "cell_type": "markdown",
      "source": [
        "## Evaluating Performance Through a Confusion Matrix\n",
        "We use a confusion matrix to get a detailed view of the model’s performance, showing not only overall accuracy but also the types of errors (false positives and false negatives) it makes."
      ],
      "metadata": {
        "id": "XiZ8Bmyh-A2v"
      }
    },
    {
      "cell_type": "code",
      "source": [
        "from sklearn.metrics import confusion_matrix\n",
        "cm = confusion_matrix(test_lab, preds)\n",
        "plt.figure(figsize=(6,5))\n",
        "sns.heatmap(cm, annot=True, fmt=\"d\", cmap=\"viridis\", cbar=False,\n",
        "            xticklabels=[\"Predicted 0\", \"Predicted 1\"],\n",
        "            yticklabels=[\"Actual 0\", \"Actual 1\"])\n",
        "\n",
        "plt.xlabel(\"Predicted Label\")\n",
        "plt.ylabel(\"True Label\")\n",
        "plt.title(\"Confusion Matrix\")\n",
        "plt.show()"
      ],
      "metadata": {
        "colab": {
          "base_uri": "https://localhost:8080/",
          "height": 487
        },
        "id": "L_cNEoYn7UdT",
        "outputId": "4365e7cd-1172-4d65-be99-14b1187400ab"
      },
      "execution_count": null,
      "outputs": [
        {
          "output_type": "display_data",
          "data": {
            "text/plain": [
              "<Figure size 600x500 with 1 Axes>"
            ],
            "image/png": "[encoded data removed]"
          },
          "metadata": {}
        }
      ]
    },
    {
      "cell_type": "markdown",
      "source": [
        "Through the confusion matrix, we see 0 false negatives and 142 false positives, which explains why the model’s precision is higher than its recall."
      ],
      "metadata": {
        "id": "044SvCg18GUr"
      }
    },
    {
      "cell_type": "markdown",
      "source": [
        "#Comparing with Scikit Learn\n",
        "We now compare our from-scracth model to Scikit Learn's Multinomial Naive Bayes classifier."
      ],
      "metadata": {
        "id": "X0biklwY-4SX"
      }
    },
    {
      "cell_type": "code",
      "source": [
        "#try scikit learn's version of Multinomial Naive Bayes\n",
        "from sklearn.feature_extraction.text import CountVectorizer\n",
        "from sklearn.naive_bayes import MultinomialNB\n",
        "from sklearn.metrics import accuracy_score, precision_score, recall_score\n",
        "\n",
        "train = [clean_message(msg) for msg in train_list]\n",
        "test  = [clean_message(msg) for msg in test_list]\n",
        "\n",
        "vectorizer = CountVectorizer()\n",
        "X_train = vectorizer.fit_transform(train)\n",
        "X_test  = vectorizer.transform(test)\n",
        "\n",
        "clf = MultinomialNB()\n",
        "clf.fit(X_train, train_lab)\n",
        "\n",
        "preds_sklearn = clf.predict(X_test)\n",
        "\n",
        "acc_sklearn = accuracy_score(test_lab, preds_sklearn)\n",
        "print(f\"Scikit-learn MultinomialNB accuracy: {acc_sklearn:.2f}\")\n",
        "precision = precision_score(test_lab, preds_sklearn)\n",
        "print(f\"Precision: {precision:.2f}\")\n",
        "recall = recall_score(test_lab, preds_sklearn)\n",
        "print(f\"Recall: {recall:.2f}\")\n"
      ],
      "metadata": {
        "colab": {
          "base_uri": "https://localhost:8080/"
        },
        "id": "7n9u0B3Cnwc2",
        "outputId": "6f72a603-b6a6-4ad1-e3a7-c2ec565770d9"
      },
      "execution_count": null,
      "outputs": [
        {
          "output_type": "stream",
          "name": "stdout",
          "text": [
            "Scikit-learn MultinomialNB accuracy: 0.98\n",
            "Precision: 0.96\n",
            "Recall: 1.00\n"
          ]
        }
      ]
    },
    {
      "cell_type": "markdown",
      "source": [
        "## Comparing metrics of Models 1 and 2\n",
        "Both models have an accuracy of 0.98, a precision of 0.96, and a recall of 1.00.\n",
        "This comparison demonstrates that our from-scratch model produces equivalent results to a standard library implementation, confirming our model's correctness."
      ],
      "metadata": {
        "id": "rnIlHVeboNLk"
      }
    },
    {
      "cell_type": "markdown",
      "source": [
        "## Conclusion\n",
        "\n",
        "In this project, we successfully implemented a Multinomial Naive Bayes (MNB) classifier from scratch to detect spam emails. After cleaning and tokenizing the email text, we calculated word probabilities for each class and predicted labels for test messages. To validate our implementation, we compared it against scikit-learn’s MultinomialNB, and achieved equivalent accuracy, precision, and recall, confirming the reliability of our from-scratch model. The project demonstrates the practical significance of spam detection in improving email security as well as enhancing overall user experience.\n",
        "\n",
        "## Further Directions\n",
        "\n",
        "1. Experiment with alternative text classification models such as bag-of-words, or TF-IDF, to see if they improve performance.\n",
        "2. Try different classification models not specifically for text classification, such as logisitic regression, random forests, or SVM.  \n",
        "3. Enhance the data preprocessing phase through techniques such as stemming, lemmatization, or handling irregular punctuation (characteristic of spam emails).\n",
        "\n"
      ],
      "metadata": {
        "id": "aTrGe2UPAsmV"
      }
    },
    {
      "cell_type": "markdown",
      "source": [
        "#References\n",
        "Sahami, M., Dumais, S., Heckerman, D., & Horvitz, E. (1998). A Bayesian approach to filtering junk e-mail. In AAAI Workshop on Learning for Text Categorization (pp. 55–62). AAAI Press."
      ],
      "metadata": {
        "id": "bk9_BZ2XLTev"
      }
    }
  ]
}